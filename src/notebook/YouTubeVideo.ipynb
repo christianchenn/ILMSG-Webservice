{
 "cells": [
  {
   "cell_type": "code",
   "execution_count": 1,
   "metadata": {
    "ExecuteTime": {
     "start_time": "2023-06-05T23:21:52.114818Z",
     "end_time": "2023-06-05T23:21:52.320510Z"
    },
    "collapsed": true
   },
   "outputs": [],
   "source": [
    "import sys\n",
    "%load_ext autoreload\n",
    "%autoreload 2\n",
    "sys.path.insert(0, '../..')"
   ]
  },
  {
   "cell_type": "code",
   "execution_count": 2,
   "metadata": {
    "ExecuteTime": {
     "start_time": "2023-06-05T23:21:53.278028Z",
     "end_time": "2023-06-05T23:21:56.200833Z"
    },
    "collapsed": false
   },
   "outputs": [],
   "source": [
    "import os\n",
    "import pandas as pd\n",
    "from src.utils.preprocess import preprocess_video, split_video, split_audio\n",
    "import librosa\n",
    "from datetime import datetime\n",
    "from src.utils.model import get_audio_model, get_visual_model, find_ckpt\n",
    "from src.utils.transforms import get_video_transforms\n",
    "from src.utils.engine import yaml_search, get_recording_filename, read_frames, get_recording_paths, predict, \\\n",
    "    predict_with_files"
   ]
  },
  {
   "cell_type": "code",
   "execution_count": 3,
   "metadata": {
    "ExecuteTime": {
     "start_time": "2023-06-05T23:21:56.201004Z",
     "end_time": "2023-06-05T23:21:57.641665Z"
    },
    "collapsed": false
   },
   "outputs": [],
   "source": [
    "from moviepy.video.io.VideoFileClip import VideoFileClip\n",
    "\n",
    "\n",
    "def cvt_25fps(input_file, output_file):\n",
    "    # Load the video clip\n",
    "    clip = VideoFileClip(input_file)\n",
    "    # Set the target frame rate to 25 FPS\n",
    "    target_fps = 25\n",
    "    # Convert the clip to 25 FPS\n",
    "    clip_25fps = clip.set_fps(target_fps)\n",
    "    # Write the converted clip to a new file\n",
    "    clip_25fps.write_videofile(output_file, codec=\"libx264\")\n",
    "    # Close the clip\n",
    "    clip.close()\n",
    "\n",
    "\n",
    "def extract_audio(input_file, output_file):\n",
    "    # Load the video clip\n",
    "    clip = VideoFileClip(input_file)\n",
    "    # Extract the audio from the video\n",
    "    audio = clip.audio\n",
    "    # Save the audio as a WAV file\n",
    "    audio.write_audiofile(output_file, codec=\"pcm_s16le\")\n",
    "    # Close the clip\n",
    "    clip.close()"
   ]
  },
  {
   "cell_type": "code",
   "execution_count": 4,
   "metadata": {
    "ExecuteTime": {
     "start_time": "2023-06-05T23:22:04.447884Z",
     "end_time": "2023-06-05T23:22:04.484293Z"
    }
   },
   "outputs": [],
   "source": [
    "from pathlib import Path\n",
    "\n",
    "person = \"unpas\"\n",
    "base_dir = f\"../resources/data/YouTube/{person}\"\n",
    "cut_dir = f\"{base_dir}/cut\"\n",
    "pred_dir = f\"{base_dir}/prediction\"\n",
    "processed_dir = f\"{base_dir}/processed\"\n",
    "result_dir = f\"{base_dir}/results\"\n",
    "Path(processed_dir).mkdir(parents=True, exist_ok=True)\n",
    "Path(pred_dir).mkdir(parents=True, exist_ok=True)\n",
    "Path(result_dir).mkdir(parents=True, exist_ok=True)"
   ]
  },
  {
   "cell_type": "code",
   "execution_count": null,
   "metadata": {
    "ExecuteTime": {
     "start_time": "2023-06-05T23:23:30.320803Z",
     "end_time": "2023-06-05T23:23:45.299322Z"
    }
   },
   "outputs": [],
   "source": [
    "for file in os.listdir(cut_dir):\n",
    "    basename = file.split(\".\")[0]\n",
    "    cvt_25fps(\n",
    "        input_file=f\"{cut_dir}/{basename}.mp4\",\n",
    "        output_file=f\"{processed_dir}/{basename}.mp4\"\n",
    "    )\n",
    "    extract_audio(\n",
    "        input_file=f\"{cut_dir}/{basename}.mp4\",\n",
    "        output_file=f\"{processed_dir}/{basename}.wav\"\n",
    "    )"
   ]
  },
  {
   "cell_type": "code",
   "execution_count": 7,
   "metadata": {
    "ExecuteTime": {
     "start_time": "2023-06-05T23:25:39.597417Z",
     "end_time": "2023-06-05T23:25:58.463857Z"
    }
   },
   "outputs": [
    {
     "name": "stdout",
     "output_type": "stream",
     "text": [
      "47\n",
      "56\n",
      "33\n",
      "60\n",
      "84\n",
      "64\n",
      "81\n",
      "94\n",
      "80\n",
      "62\n"
     ]
    }
   ],
   "source": [
    "videos = []\n",
    "audios = []\n",
    "unique = []\n",
    "for file in os.listdir(processed_dir):\n",
    "    # Load Video & Audio\n",
    "    basename = file.split(\".\")[0]\n",
    "    if basename in unique: continue\n",
    "    ori_video, (w, h) = read_frames(f\"{processed_dir}/{basename}.mp4\")\n",
    "    ori_audio, _ = librosa.load(f\"{processed_dir}/{basename}.wav\", sr=16000)\n",
    "    videos.append(ori_video)\n",
    "    audios.append(ori_audio)\n",
    "    unique.append(basename)"
   ]
  },
  {
   "cell_type": "code",
   "execution_count": null,
   "metadata": {
    "collapsed": false
   },
   "outputs": [],
   "source": [
    "len(videos)"
   ]
  },
  {
   "cell_type": "code",
   "execution_count": 8,
   "metadata": {
    "ExecuteTime": {
     "start_time": "2023-06-05T23:26:05.381860Z",
     "end_time": "2023-06-05T23:26:05.440444Z"
    },
    "collapsed": false
   },
   "outputs": [],
   "source": [
    "def generate_filenames():\n",
    "    # Filenames for Target\n",
    "    dt = datetime.now()\n",
    "    time = int(dt.strftime(\"%Y%m%d%H%M%S\"))\n",
    "    filepath = f\"{cwd}/results\"\n",
    "    filename = f\"{time}\"\n",
    "    filename_prediction = f\"{filename}_Prediction.MP4\"\n",
    "    filepath_prediction = f\"{filepath}/{filename_prediction}\"\n",
    "    filename_latent = f\"{filename}_Latent.MP4\"\n",
    "    filepath_latent = f\"{filepath}/{filename_latent}\"\n",
    "    filename_ori = f\"{filename}_Original.MP4\"\n",
    "    filepath_ori = f\"{filepath}/{filename_ori}\"\n",
    "    return filepath_prediction, filepath_latent, filepath_ori"
   ]
  },
  {
   "cell_type": "code",
   "execution_count": 9,
   "metadata": {
    "ExecuteTime": {
     "start_time": "2023-06-05T23:26:16.207744Z",
     "end_time": "2023-06-05T23:26:16.234017Z"
    }
   },
   "outputs": [],
   "source": [
    "from torchmetrics.functional.audio.stoi import short_time_objective_intelligibility\n",
    "from torchmetrics.functional.audio.pesq import perceptual_evaluation_speech_quality\n",
    "from tqdm import tqdm"
   ]
  },
  {
   "cell_type": "code",
   "execution_count": 10,
   "metadata": {
    "ExecuteTime": {
     "start_time": "2023-06-05T23:26:20.375619Z",
     "end_time": "2023-06-05T23:26:20.446174Z"
    },
    "collapsed": false
   },
   "outputs": [],
   "source": [
    "def print_metric(pesq, stoi, estoi):\n",
    "    print(\"------------------\")\n",
    "    print(\"PESQ:\", pesq)\n",
    "    print(\"STOI:\", stoi)\n",
    "    print(\"ESTOI:\", estoi)\n",
    "    print(\"------------------\")"
   ]
  },
  {
   "cell_type": "code",
   "execution_count": 11,
   "metadata": {
    "ExecuteTime": {
     "start_time": "2023-06-05T23:26:24.136496Z",
     "end_time": "2023-06-05T23:26:24.181590Z"
    },
    "collapsed": false
   },
   "outputs": [],
   "source": [
    "import torch\n",
    "import numpy as np\n",
    "import soundfile as sf\n",
    "\n",
    "def sew_audios(wavs):\n",
    "    audio_data = []\n",
    "\n",
    "    for wav in wavs:\n",
    "        audio_data.append(wav)\n",
    "\n",
    "    # Concatenate the audio data\n",
    "    concatenated_data = np.concatenate(audio_data)\n",
    "    return concatenated_data\n",
    "\n",
    "def cut_ori_audio(ori_audio, total_frames, sr=16000, fps=25):\n",
    "    frame = sr//fps\n",
    "    print(int(total_frames*frame))\n",
    "    return ori_audio[:int(total_frames*frame)]\n",
    "\n",
    "def prep_audio(modified_audio, target_length):\n",
    "    # Adjust the length of the resampled modified audio to match the target length\n",
    "    if len(modified_audio) > target_length:\n",
    "        modified_audio = modified_audio[:target_length]\n",
    "    elif len(modified_audio) < target_length:\n",
    "        modified_audio = librosa.util.fix_length(modified_audio, size=target_length)\n",
    "\n",
    "    return modified_audio"
   ]
  },
  {
   "cell_type": "code",
   "execution_count": 12,
   "metadata": {
    "ExecuteTime": {
     "start_time": "2023-06-05T23:26:35.290106Z",
     "end_time": "2023-06-05T23:26:35.346279Z"
    },
    "collapsed": false
   },
   "outputs": [],
   "source": [
    "def load_model(model, cwd, _type, frames, run_name):\n",
    "    default_ckpt_path = f\"{cwd}/models/ilmsg-{_type}/f{frames}\"\n",
    "    ckpt_filename = find_ckpt(f\"{default_ckpt_path}/{run_name}/\")\n",
    "    ckpt_path = f\"{default_ckpt_path}/{run_name}/{ckpt_filename}\"\n",
    "    model = model.load_from_checkpoint(ckpt_path).cuda()\n",
    "    return model\n",
    "\n",
    "\n",
    "def reload_model(cwd, model_conf, data, experiment, learning_rate):\n",
    "    vmodel = get_visual_model(model_conf[\"version\"], learning_rate, model_conf[\"name\"], experiment)\n",
    "    amodel = get_audio_model(data[\"audio_version\"], learning_rate, data[\"audio_run\"])\n",
    "    # Load Audio CKPT\n",
    "    amodel = load_model(amodel, cwd, \"audio\", data[\"frames\"], data[\"audio_run\"])\n",
    "    # Load Video CKPT\n",
    "    vmodel = load_model(vmodel, cwd, \"video\", data[\"frames\"], model_conf[\"name\"])\n",
    "    amodel.eval()\n",
    "    vmodel.eval()\n",
    "    return amodel, vmodel"
   ]
  },
  {
   "cell_type": "code",
   "execution_count": 13,
   "metadata": {
    "ExecuteTime": {
     "start_time": "2023-06-05T23:26:40.789350Z",
     "end_time": "2023-06-05T23:26:48.197582Z"
    },
    "collapsed": false
   },
   "outputs": [],
   "source": [
    "cwd = f\"{os.getcwd()}/../../src/resources\"\n",
    "# Pria: 66,68,88,87,90\n",
    "# Wanita: 106, 107, 109, 110, 108\n",
    "run_model = 68\n",
    "experiment = yaml_search(f\"{cwd}/experiments/video\", run_model)\n",
    "\n",
    "hparams = experiment[\"hyperparameters\"]\n",
    "config = experiment[\"config\"]\n",
    "data = experiment[\"data\"]\n",
    "\n",
    "seed, batch_size, learning_rate = hparams[\"seed\"], hparams[\"batch_size\"], float(hparams[\"learning_rate\"])\n",
    "model_conf = experiment[\"model\"]\n",
    "config = experiment[\"config\"]\n",
    "data = experiment[\"data\"]\n",
    "transforms = get_video_transforms(data[\"transform\"], data[\"color\"])\n",
    "arr_size = [150, 150]\n",
    "\n",
    "audio_model, visual_model = reload_model(cwd, model_conf, data, experiment, learning_rate)"
   ]
  },
  {
   "cell_type": "code",
   "execution_count": 15,
   "metadata": {
    "ExecuteTime": {
     "start_time": "2023-06-05T23:28:31.012190Z",
     "end_time": "2023-06-05T23:33:10.803132Z"
    },
    "collapsed": false
   },
   "outputs": [
    {
     "name": "stderr",
     "output_type": "stream",
     "text": [
      "  0%|          | 0/10 [00:00<?, ?it/s]"
     ]
    },
    {
     "name": "stdout",
     "output_type": "stream",
     "text": [
      "<_dlib_pybind11.fhog_object_detector object at 0x7fe0c0311f30> <_dlib_pybind11.shape_predictor object at 0x7fe0c2b07170>\n",
      "Calculate Centroid\n"
     ]
    },
    {
     "name": "stderr",
     "output_type": "stream",
     "text": [
      "\n",
      "  0%|          | 0/47 [00:00<?, ?it/s]\u001B[A\n",
      "  2%|▏         | 1/47 [00:00<00:18,  2.46it/s]\u001B[A\n",
      "  4%|▍         | 2/47 [00:00<00:17,  2.57it/s]\u001B[A\n",
      "  6%|▋         | 3/47 [00:01<00:17,  2.51it/s]\u001B[A\n",
      "  9%|▊         | 4/47 [00:01<00:16,  2.55it/s]\u001B[A\n",
      " 11%|█         | 5/47 [00:01<00:16,  2.58it/s]\u001B[A\n",
      " 13%|█▎        | 6/47 [00:02<00:16,  2.47it/s]\u001B[A\n",
      " 15%|█▍        | 7/47 [00:02<00:15,  2.53it/s]\u001B[A\n",
      " 17%|█▋        | 8/47 [00:03<00:15,  2.58it/s]\u001B[A\n",
      " 19%|█▉        | 9/47 [00:03<00:14,  2.61it/s]\u001B[A\n",
      " 21%|██▏       | 10/47 [00:03<00:14,  2.64it/s]\u001B[A\n",
      " 23%|██▎       | 11/47 [00:04<00:13,  2.65it/s]\u001B[A\n",
      " 26%|██▌       | 12/47 [00:04<00:13,  2.65it/s]\u001B[A\n",
      " 28%|██▊       | 13/47 [00:05<00:12,  2.66it/s]\u001B[A\n",
      " 30%|██▉       | 14/47 [00:05<00:12,  2.60it/s]\u001B[A\n",
      " 32%|███▏      | 15/47 [00:05<00:12,  2.61it/s]\u001B[A\n",
      " 34%|███▍      | 16/47 [00:06<00:11,  2.63it/s]\u001B[A\n",
      " 36%|███▌      | 17/47 [00:06<00:11,  2.64it/s]\u001B[A\n",
      " 38%|███▊      | 18/47 [00:06<00:11,  2.55it/s]\u001B[A\n",
      " 40%|████      | 19/47 [00:07<00:10,  2.59it/s]\u001B[A\n",
      " 43%|████▎     | 20/47 [00:07<00:10,  2.62it/s]\u001B[A\n",
      " 45%|████▍     | 21/47 [00:08<00:09,  2.64it/s]\u001B[A\n",
      " 47%|████▋     | 22/47 [00:08<00:09,  2.63it/s]\u001B[A\n",
      " 49%|████▉     | 23/47 [00:08<00:09,  2.61it/s]\u001B[A\n",
      " 51%|█████     | 24/47 [00:09<00:08,  2.62it/s]\u001B[A\n",
      " 53%|█████▎    | 25/47 [00:09<00:08,  2.64it/s]\u001B[A\n",
      " 55%|█████▌    | 26/47 [00:09<00:07,  2.66it/s]\u001B[A\n",
      " 57%|█████▋    | 27/47 [00:10<00:07,  2.68it/s]\u001B[A\n",
      " 60%|█████▉    | 28/47 [00:10<00:07,  2.68it/s]\u001B[A\n",
      " 62%|██████▏   | 29/47 [00:11<00:06,  2.69it/s]\u001B[A\n",
      " 64%|██████▍   | 30/47 [00:11<00:06,  2.68it/s]\u001B[A\n",
      " 66%|██████▌   | 31/47 [00:11<00:06,  2.66it/s]\u001B[A\n",
      " 68%|██████▊   | 32/47 [00:12<00:05,  2.66it/s]\u001B[A\n",
      " 70%|███████   | 33/47 [00:12<00:05,  2.63it/s]\u001B[A\n",
      " 72%|███████▏  | 34/47 [00:12<00:04,  2.64it/s]\u001B[A\n",
      " 74%|███████▍  | 35/47 [00:13<00:04,  2.66it/s]\u001B[A\n",
      " 77%|███████▋  | 36/47 [00:13<00:04,  2.67it/s]\u001B[A\n",
      " 79%|███████▊  | 37/47 [00:14<00:03,  2.68it/s]\u001B[A\n",
      " 81%|████████  | 38/47 [00:14<00:03,  2.69it/s]\u001B[A\n",
      " 83%|████████▎ | 39/47 [00:14<00:03,  2.65it/s]\u001B[A\n",
      " 85%|████████▌ | 40/47 [00:15<00:02,  2.64it/s]\u001B[A\n",
      " 87%|████████▋ | 41/47 [00:15<00:02,  2.65it/s]\u001B[A\n",
      " 89%|████████▉ | 42/47 [00:15<00:01,  2.66it/s]\u001B[A\n",
      " 91%|█████████▏| 43/47 [00:16<00:01,  2.63it/s]\u001B[A\n",
      " 94%|█████████▎| 44/47 [00:16<00:01,  2.57it/s]\u001B[A\n",
      " 96%|█████████▌| 45/47 [00:17<00:00,  2.57it/s]\u001B[A\n",
      " 98%|█████████▊| 46/47 [00:17<00:00,  2.55it/s]\u001B[A\n",
      "100%|██████████| 47/47 [00:17<00:00,  2.62it/s]\u001B[A\n"
     ]
    },
    {
     "name": "stdout",
     "output_type": "stream",
     "text": [
      "[969.29787234 435.23404255]\n"
     ]
    },
    {
     "name": "stderr",
     "output_type": "stream",
     "text": [
      " 10%|█         | 1/10 [00:20<03:04, 20.50s/it]"
     ]
    },
    {
     "name": "stdout",
     "output_type": "stream",
     "text": [
      "------------------\n",
      "PESQ: tensor(1.0433)\n",
      "STOI: tensor(0.1789)\n",
      "ESTOI: tensor(-0.0025)\n",
      "------------------\n",
      "<_dlib_pybind11.fhog_object_detector object at 0x7fe0b7feba30> <_dlib_pybind11.shape_predictor object at 0x7fe0b605b7b0>\n",
      "Calculate Centroid\n"
     ]
    },
    {
     "name": "stderr",
     "output_type": "stream",
     "text": [
      "\n",
      "  0%|          | 0/56 [00:00<?, ?it/s]\u001B[A\n",
      "  2%|▏         | 1/56 [00:00<00:21,  2.54it/s]\u001B[A\n",
      "  4%|▎         | 2/56 [00:00<00:20,  2.62it/s]\u001B[A\n",
      "  5%|▌         | 3/56 [00:01<00:20,  2.65it/s]\u001B[A\n",
      "  7%|▋         | 4/56 [00:01<00:19,  2.65it/s]\u001B[A\n",
      "  9%|▉         | 5/56 [00:01<00:19,  2.56it/s]\u001B[A\n",
      " 11%|█         | 6/56 [00:02<00:19,  2.57it/s]\u001B[A\n",
      " 12%|█▎        | 7/56 [00:02<00:18,  2.58it/s]\u001B[A\n",
      " 14%|█▍        | 8/56 [00:03<00:18,  2.61it/s]\u001B[A\n",
      " 16%|█▌        | 9/56 [00:03<00:17,  2.62it/s]\u001B[A\n",
      " 18%|█▊        | 10/56 [00:03<00:17,  2.62it/s]\u001B[A\n",
      " 20%|█▉        | 11/56 [00:04<00:17,  2.62it/s]\u001B[A\n",
      " 21%|██▏       | 12/56 [00:04<00:16,  2.61it/s]\u001B[A\n",
      " 23%|██▎       | 13/56 [00:04<00:16,  2.59it/s]\u001B[A\n",
      " 25%|██▌       | 14/56 [00:05<00:16,  2.62it/s]\u001B[A\n",
      " 27%|██▋       | 15/56 [00:05<00:15,  2.59it/s]\u001B[A\n",
      " 29%|██▊       | 16/56 [00:06<00:15,  2.62it/s]\u001B[A\n",
      " 30%|███       | 17/56 [00:06<00:15,  2.60it/s]\u001B[A\n",
      " 32%|███▏      | 18/56 [00:06<00:14,  2.59it/s]\u001B[A\n",
      " 34%|███▍      | 19/56 [00:07<00:14,  2.58it/s]\u001B[A\n",
      " 36%|███▌      | 20/56 [00:07<00:13,  2.60it/s]\u001B[A\n",
      " 38%|███▊      | 21/56 [00:08<00:13,  2.57it/s]\u001B[A\n",
      " 39%|███▉      | 22/56 [00:08<00:13,  2.57it/s]\u001B[A\n",
      " 41%|████      | 23/56 [00:08<00:12,  2.57it/s]\u001B[A\n",
      " 43%|████▎     | 24/56 [00:09<00:12,  2.59it/s]\u001B[A\n",
      " 45%|████▍     | 25/56 [00:09<00:11,  2.60it/s]\u001B[A\n",
      " 46%|████▋     | 26/56 [00:10<00:11,  2.58it/s]\u001B[A\n",
      " 48%|████▊     | 27/56 [00:10<00:11,  2.59it/s]\u001B[A\n",
      " 50%|█████     | 28/56 [00:10<00:10,  2.60it/s]\u001B[A\n",
      " 52%|█████▏    | 29/56 [00:11<00:10,  2.56it/s]\u001B[A\n",
      " 54%|█████▎    | 30/56 [00:11<00:10,  2.59it/s]\u001B[A\n",
      " 55%|█████▌    | 31/56 [00:11<00:09,  2.59it/s]\u001B[A\n",
      " 57%|█████▋    | 32/56 [00:12<00:09,  2.61it/s]\u001B[A\n",
      " 59%|█████▉    | 33/56 [00:12<00:08,  2.63it/s]\u001B[A\n",
      " 61%|██████    | 34/56 [00:13<00:08,  2.64it/s]\u001B[A\n",
      " 62%|██████▎   | 35/56 [00:13<00:07,  2.64it/s]\u001B[A\n",
      " 64%|██████▍   | 36/56 [00:13<00:07,  2.65it/s]\u001B[A\n",
      " 66%|██████▌   | 37/56 [00:14<00:07,  2.65it/s]\u001B[A\n",
      " 68%|██████▊   | 38/56 [00:14<00:06,  2.65it/s]\u001B[A\n",
      " 70%|██████▉   | 39/56 [00:14<00:06,  2.65it/s]\u001B[A\n",
      " 71%|███████▏  | 40/56 [00:15<00:06,  2.65it/s]\u001B[A\n",
      " 73%|███████▎  | 41/56 [00:15<00:05,  2.63it/s]\u001B[A\n",
      " 75%|███████▌  | 42/56 [00:16<00:05,  2.63it/s]\u001B[A\n",
      " 77%|███████▋  | 43/56 [00:16<00:04,  2.64it/s]\u001B[A\n",
      " 79%|███████▊  | 44/56 [00:16<00:04,  2.65it/s]\u001B[A\n",
      " 80%|████████  | 45/56 [00:17<00:04,  2.65it/s]\u001B[A\n",
      " 82%|████████▏ | 46/56 [00:17<00:03,  2.60it/s]\u001B[A\n",
      " 84%|████████▍ | 47/56 [00:18<00:03,  2.62it/s]\u001B[A\n",
      " 86%|████████▌ | 48/56 [00:18<00:03,  2.62it/s]\u001B[A\n",
      " 88%|████████▊ | 49/56 [00:18<00:02,  2.61it/s]\u001B[A\n",
      " 89%|████████▉ | 50/56 [00:19<00:02,  2.61it/s]\u001B[A\n",
      " 91%|█████████ | 51/56 [00:19<00:01,  2.54it/s]\u001B[A\n",
      " 93%|█████████▎| 52/56 [00:19<00:01,  2.56it/s]\u001B[A\n",
      " 95%|█████████▍| 53/56 [00:20<00:01,  2.60it/s]\u001B[A\n",
      " 96%|█████████▋| 54/56 [00:20<00:00,  2.62it/s]\u001B[A\n",
      " 98%|█████████▊| 55/56 [00:21<00:00,  2.64it/s]\u001B[A\n",
      "100%|██████████| 56/56 [00:21<00:00,  2.61it/s]\u001B[A\n"
     ]
    },
    {
     "name": "stdout",
     "output_type": "stream",
     "text": [
      "[969.01785714 440.67857143]\n"
     ]
    },
    {
     "name": "stderr",
     "output_type": "stream",
     "text": [
      " 20%|██        | 2/10 [00:44<02:58, 22.30s/it]"
     ]
    },
    {
     "name": "stdout",
     "output_type": "stream",
     "text": [
      "------------------\n",
      "PESQ: tensor(1.2260)\n",
      "STOI: tensor(0.0373)\n",
      "ESTOI: tensor(-0.0092)\n",
      "------------------\n",
      "<_dlib_pybind11.fhog_object_detector object at 0x7fe0b7fd7d70> <_dlib_pybind11.shape_predictor object at 0x7fe0c0375f70>\n",
      "Calculate Centroid\n"
     ]
    },
    {
     "name": "stderr",
     "output_type": "stream",
     "text": [
      "\n",
      "  0%|          | 0/33 [00:00<?, ?it/s]\u001B[A\n",
      "  3%|▎         | 1/33 [00:00<00:12,  2.53it/s]\u001B[A\n",
      "  6%|▌         | 2/33 [00:00<00:11,  2.59it/s]\u001B[A\n",
      "  9%|▉         | 3/33 [00:01<00:11,  2.61it/s]\u001B[A\n",
      " 12%|█▏        | 4/33 [00:01<00:11,  2.61it/s]\u001B[A\n",
      " 15%|█▌        | 5/33 [00:01<00:10,  2.59it/s]\u001B[A\n",
      " 18%|█▊        | 6/33 [00:02<00:10,  2.56it/s]\u001B[A\n",
      " 21%|██        | 7/33 [00:02<00:10,  2.57it/s]\u001B[A\n",
      " 24%|██▍       | 8/33 [00:03<00:09,  2.58it/s]\u001B[A\n",
      " 27%|██▋       | 9/33 [00:03<00:09,  2.60it/s]\u001B[A\n",
      " 30%|███       | 10/33 [00:03<00:08,  2.60it/s]\u001B[A\n",
      " 33%|███▎      | 11/33 [00:04<00:08,  2.62it/s]\u001B[A\n",
      " 36%|███▋      | 12/33 [00:04<00:08,  2.61it/s]\u001B[A\n",
      " 39%|███▉      | 13/33 [00:05<00:07,  2.62it/s]\u001B[A\n",
      " 42%|████▏     | 14/33 [00:05<00:07,  2.62it/s]\u001B[A\n",
      " 45%|████▌     | 15/33 [00:05<00:06,  2.63it/s]\u001B[A\n",
      " 48%|████▊     | 16/33 [00:06<00:06,  2.63it/s]\u001B[A\n",
      " 52%|█████▏    | 17/33 [00:06<00:06,  2.64it/s]\u001B[A\n",
      " 55%|█████▍    | 18/33 [00:06<00:05,  2.64it/s]\u001B[A\n",
      " 58%|█████▊    | 19/33 [00:07<00:05,  2.56it/s]\u001B[A\n",
      " 61%|██████    | 20/33 [00:07<00:05,  2.59it/s]\u001B[A\n",
      " 64%|██████▎   | 21/33 [00:08<00:04,  2.59it/s]\u001B[A\n",
      " 67%|██████▋   | 22/33 [00:08<00:04,  2.60it/s]\u001B[A\n",
      " 70%|██████▉   | 23/33 [00:08<00:03,  2.60it/s]\u001B[A\n",
      " 73%|███████▎  | 24/33 [00:09<00:03,  2.60it/s]\u001B[A\n",
      " 76%|███████▌  | 25/33 [00:09<00:03,  2.60it/s]\u001B[A\n",
      " 79%|███████▉  | 26/33 [00:09<00:02,  2.60it/s]\u001B[A\n",
      " 82%|████████▏ | 27/33 [00:10<00:02,  2.60it/s]\u001B[A\n",
      " 85%|████████▍ | 28/33 [00:10<00:01,  2.61it/s]\u001B[A\n",
      " 88%|████████▊ | 29/33 [00:11<00:01,  2.61it/s]\u001B[A\n",
      " 91%|█████████ | 30/33 [00:11<00:01,  2.61it/s]\u001B[A\n",
      " 94%|█████████▍| 31/33 [00:11<00:00,  2.59it/s]\u001B[A\n",
      " 97%|█████████▋| 32/33 [00:12<00:00,  2.53it/s]\u001B[A\n",
      "100%|██████████| 33/33 [00:12<00:00,  2.59it/s]\u001B[A\n"
     ]
    },
    {
     "name": "stdout",
     "output_type": "stream",
     "text": [
      "[971.60606061 449.48484848]\n"
     ]
    },
    {
     "name": "stderr",
     "output_type": "stream",
     "text": [
      " 30%|███       | 3/10 [00:58<02:10, 18.66s/it]"
     ]
    },
    {
     "name": "stdout",
     "output_type": "stream",
     "text": [
      "------------------\n",
      "PESQ: tensor(1.0686)\n",
      "STOI: tensor(0.1081)\n",
      "ESTOI: tensor(-0.0903)\n",
      "------------------\n",
      "<_dlib_pybind11.fhog_object_detector object at 0x7fe0c20f14f0> <_dlib_pybind11.shape_predictor object at 0x7fe0c02b50b0>\n",
      "Calculate Centroid\n"
     ]
    },
    {
     "name": "stderr",
     "output_type": "stream",
     "text": [
      "\n",
      "  0%|          | 0/60 [00:00<?, ?it/s]\u001B[A\n",
      "  2%|▏         | 1/60 [00:00<00:22,  2.63it/s]\u001B[A\n",
      "  3%|▎         | 2/60 [00:00<00:22,  2.59it/s]\u001B[A\n",
      "  5%|▌         | 3/60 [00:01<00:22,  2.57it/s]\u001B[A\n",
      "  7%|▋         | 4/60 [00:01<00:21,  2.58it/s]\u001B[A\n",
      "  8%|▊         | 5/60 [00:01<00:21,  2.56it/s]\u001B[A\n",
      " 10%|█         | 6/60 [00:02<00:21,  2.56it/s]\u001B[A\n",
      " 12%|█▏        | 7/60 [00:02<00:20,  2.53it/s]\u001B[A\n",
      " 13%|█▎        | 8/60 [00:03<00:20,  2.54it/s]\u001B[A\n",
      " 15%|█▌        | 9/60 [00:03<00:19,  2.57it/s]\u001B[A\n",
      " 17%|█▋        | 10/60 [00:03<00:19,  2.58it/s]\u001B[A\n",
      " 18%|█▊        | 11/60 [00:04<00:18,  2.59it/s]\u001B[A\n",
      " 20%|██        | 12/60 [00:04<00:18,  2.60it/s]\u001B[A\n",
      " 22%|██▏       | 13/60 [00:05<00:18,  2.61it/s]\u001B[A\n",
      " 23%|██▎       | 14/60 [00:05<00:17,  2.62it/s]\u001B[A\n",
      " 25%|██▌       | 15/60 [00:05<00:17,  2.62it/s]\u001B[A\n",
      " 27%|██▋       | 16/60 [00:06<00:16,  2.62it/s]\u001B[A\n",
      " 28%|██▊       | 17/60 [00:06<00:16,  2.63it/s]\u001B[A\n",
      " 30%|███       | 18/60 [00:06<00:15,  2.63it/s]\u001B[A\n",
      " 32%|███▏      | 19/60 [00:07<00:15,  2.63it/s]\u001B[A\n",
      " 33%|███▎      | 20/60 [00:07<00:15,  2.61it/s]\u001B[A\n",
      " 35%|███▌      | 21/60 [00:08<00:14,  2.61it/s]\u001B[A\n",
      " 37%|███▋      | 22/60 [00:08<00:14,  2.60it/s]\u001B[A\n",
      " 38%|███▊      | 23/60 [00:08<00:14,  2.59it/s]\u001B[A\n",
      " 40%|████      | 24/60 [00:09<00:13,  2.61it/s]\u001B[A\n",
      " 42%|████▏     | 25/60 [00:09<00:13,  2.62it/s]\u001B[A\n",
      " 43%|████▎     | 26/60 [00:10<00:12,  2.62it/s]\u001B[A\n",
      " 45%|████▌     | 27/60 [00:10<00:12,  2.63it/s]\u001B[A\n",
      " 47%|████▋     | 28/60 [00:10<00:12,  2.63it/s]\u001B[A\n",
      " 48%|████▊     | 29/60 [00:11<00:11,  2.63it/s]\u001B[A\n",
      " 50%|█████     | 30/60 [00:11<00:11,  2.63it/s]\u001B[A\n",
      " 52%|█████▏    | 31/60 [00:11<00:11,  2.63it/s]\u001B[A\n",
      " 53%|█████▎    | 32/60 [00:12<00:10,  2.61it/s]\u001B[A\n",
      " 55%|█████▌    | 33/60 [00:12<00:10,  2.61it/s]\u001B[A\n",
      " 57%|█████▋    | 34/60 [00:13<00:09,  2.62it/s]\u001B[A\n",
      " 58%|█████▊    | 35/60 [00:13<00:09,  2.63it/s]\u001B[A\n",
      " 60%|██████    | 36/60 [00:13<00:09,  2.60it/s]\u001B[A\n",
      " 62%|██████▏   | 37/60 [00:14<00:08,  2.58it/s]\u001B[A\n",
      " 63%|██████▎   | 38/60 [00:14<00:08,  2.59it/s]\u001B[A\n",
      " 65%|██████▌   | 39/60 [00:14<00:08,  2.57it/s]\u001B[A\n",
      " 67%|██████▋   | 40/60 [00:15<00:07,  2.58it/s]\u001B[A\n",
      " 68%|██████▊   | 41/60 [00:15<00:07,  2.57it/s]\u001B[A\n",
      " 70%|███████   | 42/60 [00:16<00:06,  2.59it/s]\u001B[A\n",
      " 72%|███████▏  | 43/60 [00:16<00:06,  2.58it/s]\u001B[A\n",
      " 73%|███████▎  | 44/60 [00:16<00:06,  2.57it/s]\u001B[A\n",
      " 75%|███████▌  | 45/60 [00:17<00:05,  2.56it/s]\u001B[A\n",
      " 77%|███████▋  | 46/60 [00:17<00:05,  2.54it/s]\u001B[A\n",
      " 78%|███████▊  | 47/60 [00:18<00:05,  2.57it/s]\u001B[A\n",
      " 80%|████████  | 48/60 [00:18<00:04,  2.58it/s]\u001B[A\n",
      " 82%|████████▏ | 49/60 [00:18<00:04,  2.57it/s]\u001B[A\n",
      " 83%|████████▎ | 50/60 [00:19<00:03,  2.56it/s]\u001B[A\n",
      " 85%|████████▌ | 51/60 [00:19<00:03,  2.56it/s]\u001B[A\n",
      " 87%|████████▋ | 52/60 [00:20<00:03,  2.56it/s]\u001B[A\n",
      " 88%|████████▊ | 53/60 [00:20<00:02,  2.58it/s]\u001B[A\n",
      " 90%|█████████ | 54/60 [00:20<00:02,  2.59it/s]\u001B[A\n",
      " 92%|█████████▏| 55/60 [00:21<00:01,  2.59it/s]\u001B[A\n",
      " 93%|█████████▎| 56/60 [00:21<00:01,  2.58it/s]\u001B[A\n",
      " 95%|█████████▌| 57/60 [00:21<00:01,  2.58it/s]\u001B[A\n",
      " 97%|█████████▋| 58/60 [00:22<00:00,  2.56it/s]\u001B[A\n",
      " 98%|█████████▊| 59/60 [00:22<00:00,  2.56it/s]\u001B[A\n",
      "100%|██████████| 60/60 [00:23<00:00,  2.59it/s]\u001B[A\n"
     ]
    },
    {
     "name": "stdout",
     "output_type": "stream",
     "text": [
      "[972.2        452.43333333]\n"
     ]
    },
    {
     "name": "stderr",
     "output_type": "stream",
     "text": [
      " 40%|████      | 4/10 [01:24<02:08, 21.45s/it]"
     ]
    },
    {
     "name": "stdout",
     "output_type": "stream",
     "text": [
      "------------------\n",
      "PESQ: tensor(1.0608)\n",
      "STOI: tensor(0.2459)\n",
      "ESTOI: tensor(0.1215)\n",
      "------------------\n",
      "<_dlib_pybind11.fhog_object_detector object at 0x7fe0c0308c70> <_dlib_pybind11.shape_predictor object at 0x7fe0b6074430>\n",
      "Calculate Centroid\n"
     ]
    },
    {
     "name": "stderr",
     "output_type": "stream",
     "text": [
      "\n",
      "  0%|          | 0/84 [00:00<?, ?it/s]\u001B[A\n",
      "  1%|          | 1/84 [00:00<00:32,  2.56it/s]\u001B[A\n",
      "  2%|▏         | 2/84 [00:00<00:31,  2.59it/s]\u001B[A\n",
      "  4%|▎         | 3/84 [00:01<00:30,  2.61it/s]\u001B[A\n",
      "  5%|▍         | 4/84 [00:01<00:30,  2.62it/s]\u001B[A\n",
      "  6%|▌         | 5/84 [00:01<00:30,  2.62it/s]\u001B[A\n",
      "  7%|▋         | 6/84 [00:02<00:29,  2.63it/s]\u001B[A\n",
      "  8%|▊         | 7/84 [00:02<00:29,  2.61it/s]\u001B[A\n",
      " 10%|▉         | 8/84 [00:03<00:29,  2.58it/s]\u001B[A\n",
      " 11%|█         | 9/84 [00:03<00:29,  2.58it/s]\u001B[A\n",
      " 12%|█▏        | 10/84 [00:03<00:28,  2.59it/s]\u001B[A\n",
      " 13%|█▎        | 11/84 [00:04<00:28,  2.59it/s]\u001B[A\n",
      " 14%|█▍        | 12/84 [00:04<00:27,  2.61it/s]\u001B[A\n",
      " 15%|█▌        | 13/84 [00:04<00:27,  2.61it/s]\u001B[A\n",
      " 17%|█▋        | 14/84 [00:05<00:26,  2.61it/s]\u001B[A\n",
      " 18%|█▊        | 15/84 [00:05<00:26,  2.61it/s]\u001B[A\n",
      " 19%|█▉        | 16/84 [00:06<00:26,  2.61it/s]\u001B[A\n",
      " 20%|██        | 17/84 [00:06<00:25,  2.62it/s]\u001B[A\n",
      " 21%|██▏       | 18/84 [00:06<00:25,  2.62it/s]\u001B[A\n",
      " 23%|██▎       | 19/84 [00:07<00:24,  2.63it/s]\u001B[A\n",
      " 24%|██▍       | 20/84 [00:07<00:24,  2.63it/s]\u001B[A\n",
      " 25%|██▌       | 21/84 [00:08<00:23,  2.63it/s]\u001B[A\n",
      " 26%|██▌       | 22/84 [00:08<00:23,  2.64it/s]\u001B[A\n",
      " 27%|██▋       | 23/84 [00:08<00:23,  2.63it/s]\u001B[A\n",
      " 29%|██▊       | 24/84 [00:09<00:22,  2.63it/s]\u001B[A\n",
      " 30%|██▉       | 25/84 [00:09<00:22,  2.63it/s]\u001B[A\n",
      " 31%|███       | 26/84 [00:09<00:22,  2.63it/s]\u001B[A\n",
      " 32%|███▏      | 27/84 [00:10<00:21,  2.63it/s]\u001B[A\n",
      " 33%|███▎      | 28/84 [00:10<00:21,  2.64it/s]\u001B[A\n",
      " 35%|███▍      | 29/84 [00:11<00:20,  2.63it/s]\u001B[A\n",
      " 36%|███▌      | 30/84 [00:11<00:20,  2.62it/s]\u001B[A\n",
      " 37%|███▋      | 31/84 [00:11<00:20,  2.64it/s]\u001B[A\n",
      " 38%|███▊      | 32/84 [00:12<00:19,  2.65it/s]\u001B[A\n",
      " 39%|███▉      | 33/84 [00:12<00:19,  2.65it/s]\u001B[A\n",
      " 40%|████      | 34/84 [00:12<00:18,  2.64it/s]\u001B[A\n",
      " 42%|████▏     | 35/84 [00:13<00:18,  2.63it/s]\u001B[A\n",
      " 43%|████▎     | 36/84 [00:13<00:18,  2.62it/s]\u001B[A\n",
      " 44%|████▍     | 37/84 [00:14<00:17,  2.62it/s]\u001B[A\n",
      " 45%|████▌     | 38/84 [00:14<00:17,  2.61it/s]\u001B[A\n",
      " 46%|████▋     | 39/84 [00:14<00:17,  2.62it/s]\u001B[A\n",
      " 48%|████▊     | 40/84 [00:15<00:16,  2.64it/s]\u001B[A\n",
      " 49%|████▉     | 41/84 [00:15<00:16,  2.64it/s]\u001B[A\n",
      " 50%|█████     | 42/84 [00:16<00:15,  2.64it/s]\u001B[A\n",
      " 51%|█████     | 43/84 [00:16<00:15,  2.65it/s]\u001B[A\n",
      " 52%|█████▏    | 44/84 [00:16<00:15,  2.62it/s]\u001B[A\n",
      " 54%|█████▎    | 45/84 [00:17<00:14,  2.61it/s]\u001B[A\n",
      " 55%|█████▍    | 46/84 [00:17<00:14,  2.63it/s]\u001B[A\n",
      " 56%|█████▌    | 47/84 [00:17<00:14,  2.64it/s]\u001B[A\n",
      " 57%|█████▋    | 48/84 [00:18<00:13,  2.65it/s]\u001B[A\n",
      " 58%|█████▊    | 49/84 [00:18<00:13,  2.62it/s]\u001B[A\n",
      " 60%|█████▉    | 50/84 [00:19<00:13,  2.61it/s]\u001B[A\n",
      " 61%|██████    | 51/84 [00:19<00:12,  2.61it/s]\u001B[A\n",
      " 62%|██████▏   | 52/84 [00:19<00:12,  2.63it/s]\u001B[A\n",
      " 63%|██████▎   | 53/84 [00:20<00:12,  2.57it/s]\u001B[A\n",
      " 64%|██████▍   | 54/84 [00:20<00:11,  2.60it/s]\u001B[A\n",
      " 65%|██████▌   | 55/84 [00:21<00:11,  2.60it/s]\u001B[A\n",
      " 67%|██████▋   | 56/84 [00:21<00:10,  2.61it/s]\u001B[A\n",
      " 68%|██████▊   | 57/84 [00:21<00:10,  2.62it/s]\u001B[A\n",
      " 69%|██████▉   | 58/84 [00:22<00:09,  2.63it/s]\u001B[A\n",
      " 70%|███████   | 59/84 [00:22<00:09,  2.63it/s]\u001B[A\n",
      " 71%|███████▏  | 60/84 [00:22<00:09,  2.60it/s]\u001B[A\n",
      " 73%|███████▎  | 61/84 [00:23<00:08,  2.59it/s]\u001B[A\n",
      " 74%|███████▍  | 62/84 [00:23<00:08,  2.59it/s]\u001B[A\n",
      " 75%|███████▌  | 63/84 [00:24<00:08,  2.60it/s]\u001B[A\n",
      " 76%|███████▌  | 64/84 [00:24<00:07,  2.59it/s]\u001B[A\n",
      " 77%|███████▋  | 65/84 [00:24<00:07,  2.61it/s]\u001B[A\n",
      " 79%|███████▊  | 66/84 [00:25<00:06,  2.60it/s]\u001B[A\n",
      " 80%|███████▉  | 67/84 [00:25<00:06,  2.58it/s]\u001B[A\n",
      " 81%|████████  | 68/84 [00:25<00:06,  2.59it/s]\u001B[A\n",
      " 82%|████████▏ | 69/84 [00:26<00:05,  2.57it/s]\u001B[A\n",
      " 83%|████████▎ | 70/84 [00:26<00:05,  2.60it/s]\u001B[A\n",
      " 85%|████████▍ | 71/84 [00:27<00:04,  2.61it/s]\u001B[A\n",
      " 86%|████████▌ | 72/84 [00:27<00:04,  2.59it/s]\u001B[A\n",
      " 87%|████████▋ | 73/84 [00:27<00:04,  2.58it/s]\u001B[A\n",
      " 88%|████████▊ | 74/84 [00:28<00:03,  2.60it/s]\u001B[A\n",
      " 89%|████████▉ | 75/84 [00:28<00:03,  2.59it/s]\u001B[A\n",
      " 90%|█████████ | 76/84 [00:29<00:03,  2.61it/s]\u001B[A\n",
      " 92%|█████████▏| 77/84 [00:29<00:02,  2.60it/s]\u001B[A\n",
      " 93%|█████████▎| 78/84 [00:29<00:02,  2.61it/s]\u001B[A\n",
      " 94%|█████████▍| 79/84 [00:30<00:01,  2.60it/s]\u001B[A\n",
      " 95%|█████████▌| 80/84 [00:30<00:01,  2.59it/s]\u001B[A\n",
      " 96%|█████████▋| 81/84 [00:30<00:01,  2.60it/s]\u001B[A\n",
      " 98%|█████████▊| 82/84 [00:31<00:00,  2.61it/s]\u001B[A\n",
      " 99%|█████████▉| 83/84 [00:31<00:00,  2.60it/s]\u001B[A\n",
      "100%|██████████| 84/84 [00:32<00:00,  2.61it/s]\u001B[A\n"
     ]
    },
    {
     "name": "stdout",
     "output_type": "stream",
     "text": [
      "[986.57142857 457.97619048]\n"
     ]
    },
    {
     "name": "stderr",
     "output_type": "stream",
     "text": [
      " 50%|█████     | 5/10 [01:59<02:12, 26.46s/it]"
     ]
    },
    {
     "name": "stdout",
     "output_type": "stream",
     "text": [
      "------------------\n",
      "PESQ: tensor(1.1023)\n",
      "STOI: tensor(0.0733)\n",
      "ESTOI: tensor(-0.0619)\n",
      "------------------\n",
      "<_dlib_pybind11.fhog_object_detector object at 0x7fe0b607f770> <_dlib_pybind11.shape_predictor object at 0x7fe0b607f730>\n",
      "Calculate Centroid\n"
     ]
    },
    {
     "name": "stderr",
     "output_type": "stream",
     "text": [
      "\n",
      "  0%|          | 0/64 [00:00<?, ?it/s]\u001B[A\n",
      "  2%|▏         | 1/64 [00:00<00:24,  2.61it/s]\u001B[A\n",
      "  3%|▎         | 2/64 [00:00<00:24,  2.56it/s]\u001B[A\n",
      "  5%|▍         | 3/64 [00:01<00:23,  2.55it/s]\u001B[A\n",
      "  6%|▋         | 4/64 [00:01<00:23,  2.58it/s]\u001B[A\n",
      "  8%|▊         | 5/64 [00:01<00:22,  2.59it/s]\u001B[A\n",
      "  9%|▉         | 6/64 [00:02<00:22,  2.61it/s]\u001B[A\n",
      " 11%|█         | 7/64 [00:02<00:22,  2.56it/s]\u001B[A\n",
      " 12%|█▎        | 8/64 [00:03<00:21,  2.57it/s]\u001B[A\n",
      " 14%|█▍        | 9/64 [00:03<00:21,  2.58it/s]\u001B[A\n",
      " 16%|█▌        | 10/64 [00:03<00:20,  2.58it/s]\u001B[A\n",
      " 17%|█▋        | 11/64 [00:04<00:20,  2.58it/s]\u001B[A\n",
      " 19%|█▉        | 12/64 [00:04<00:20,  2.60it/s]\u001B[A\n",
      " 20%|██        | 13/64 [00:05<00:19,  2.61it/s]\u001B[A\n",
      " 22%|██▏       | 14/64 [00:05<00:19,  2.62it/s]\u001B[A\n",
      " 23%|██▎       | 15/64 [00:05<00:18,  2.62it/s]\u001B[A\n",
      " 25%|██▌       | 16/64 [00:06<00:18,  2.62it/s]\u001B[A\n",
      " 27%|██▋       | 17/64 [00:06<00:17,  2.63it/s]\u001B[A\n",
      " 28%|██▊       | 18/64 [00:06<00:17,  2.65it/s]\u001B[A\n",
      " 30%|██▉       | 19/64 [00:07<00:17,  2.64it/s]\u001B[A\n",
      " 31%|███▏      | 20/64 [00:07<00:16,  2.64it/s]\u001B[A\n",
      " 33%|███▎      | 21/64 [00:08<00:16,  2.64it/s]\u001B[A\n",
      " 34%|███▍      | 22/64 [00:08<00:15,  2.64it/s]\u001B[A\n",
      " 36%|███▌      | 23/64 [00:08<00:15,  2.64it/s]\u001B[A\n",
      " 38%|███▊      | 24/64 [00:09<00:15,  2.62it/s]\u001B[A\n",
      " 39%|███▉      | 25/64 [00:09<00:14,  2.63it/s]\u001B[A\n",
      " 41%|████      | 26/64 [00:09<00:14,  2.63it/s]\u001B[A\n",
      " 42%|████▏     | 27/64 [00:10<00:14,  2.64it/s]\u001B[A\n",
      " 44%|████▍     | 28/64 [00:10<00:13,  2.64it/s]\u001B[A\n",
      " 45%|████▌     | 29/64 [00:11<00:13,  2.64it/s]\u001B[A\n",
      " 47%|████▋     | 30/64 [00:11<00:12,  2.64it/s]\u001B[A\n",
      " 48%|████▊     | 31/64 [00:11<00:12,  2.65it/s]\u001B[A\n",
      " 50%|█████     | 32/64 [00:12<00:12,  2.65it/s]\u001B[A\n",
      " 52%|█████▏    | 33/64 [00:12<00:11,  2.65it/s]\u001B[A\n",
      " 53%|█████▎    | 34/64 [00:12<00:11,  2.66it/s]\u001B[A\n",
      " 55%|█████▍    | 35/64 [00:13<00:10,  2.66it/s]\u001B[A\n",
      " 56%|█████▋    | 36/64 [00:13<00:10,  2.66it/s]\u001B[A\n",
      " 58%|█████▊    | 37/64 [00:14<00:10,  2.66it/s]\u001B[A\n",
      " 59%|█████▉    | 38/64 [00:14<00:09,  2.65it/s]\u001B[A\n",
      " 61%|██████    | 39/64 [00:14<00:09,  2.64it/s]\u001B[A\n",
      " 62%|██████▎   | 40/64 [00:15<00:09,  2.63it/s]\u001B[A\n",
      " 64%|██████▍   | 41/64 [00:15<00:08,  2.62it/s]\u001B[A\n",
      " 66%|██████▌   | 42/64 [00:16<00:08,  2.63it/s]\u001B[A\n",
      " 67%|██████▋   | 43/64 [00:16<00:07,  2.63it/s]\u001B[A\n",
      " 69%|██████▉   | 44/64 [00:16<00:07,  2.63it/s]\u001B[A\n",
      " 70%|███████   | 45/64 [00:17<00:07,  2.64it/s]\u001B[A\n",
      " 72%|███████▏  | 46/64 [00:17<00:06,  2.63it/s]\u001B[A\n",
      " 73%|███████▎  | 47/64 [00:17<00:06,  2.62it/s]\u001B[A\n",
      " 75%|███████▌  | 48/64 [00:18<00:06,  2.63it/s]\u001B[A\n",
      " 77%|███████▋  | 49/64 [00:18<00:05,  2.63it/s]\u001B[A\n",
      " 78%|███████▊  | 50/64 [00:19<00:05,  2.63it/s]\u001B[A\n",
      " 80%|███████▉  | 51/64 [00:19<00:04,  2.64it/s]\u001B[A\n",
      " 81%|████████▏ | 52/64 [00:19<00:04,  2.64it/s]\u001B[A\n",
      " 83%|████████▎ | 53/64 [00:20<00:04,  2.64it/s]\u001B[A\n",
      " 84%|████████▍ | 54/64 [00:20<00:03,  2.64it/s]\u001B[A\n",
      " 86%|████████▌ | 55/64 [00:20<00:03,  2.63it/s]\u001B[A\n",
      " 88%|████████▊ | 56/64 [00:21<00:03,  2.63it/s]\u001B[A\n",
      " 89%|████████▉ | 57/64 [00:21<00:02,  2.63it/s]\u001B[A\n",
      " 91%|█████████ | 58/64 [00:22<00:02,  2.61it/s]\u001B[A\n",
      " 92%|█████████▏| 59/64 [00:22<00:01,  2.62it/s]\u001B[A\n",
      " 94%|█████████▍| 60/64 [00:22<00:01,  2.63it/s]\u001B[A\n",
      " 95%|█████████▌| 61/64 [00:23<00:01,  2.63it/s]\u001B[A\n",
      " 97%|█████████▋| 62/64 [00:23<00:00,  2.64it/s]\u001B[A\n",
      " 98%|█████████▊| 63/64 [00:23<00:00,  2.64it/s]\u001B[A\n",
      "100%|██████████| 64/64 [00:24<00:00,  2.63it/s]\u001B[A\n"
     ]
    },
    {
     "name": "stdout",
     "output_type": "stream",
     "text": [
      "[949.140625 454.296875]\n"
     ]
    },
    {
     "name": "stderr",
     "output_type": "stream",
     "text": [
      " 60%|██████    | 6/10 [02:26<01:46, 26.69s/it]"
     ]
    },
    {
     "name": "stdout",
     "output_type": "stream",
     "text": [
      "------------------\n",
      "PESQ: tensor(1.1238)\n",
      "STOI: tensor(0.1428)\n",
      "ESTOI: tensor(0.0826)\n",
      "------------------\n",
      "<_dlib_pybind11.fhog_object_detector object at 0x7fe0b2d98870> <_dlib_pybind11.shape_predictor object at 0x7fe0c2111570>\n",
      "Calculate Centroid\n"
     ]
    },
    {
     "name": "stderr",
     "output_type": "stream",
     "text": [
      "\n",
      "  0%|          | 0/81 [00:00<?, ?it/s]\u001B[A\n",
      "  1%|          | 1/81 [00:00<00:30,  2.65it/s]\u001B[A\n",
      "  2%|▏         | 2/81 [00:00<00:29,  2.65it/s]\u001B[A\n",
      "  4%|▎         | 3/81 [00:01<00:29,  2.62it/s]\u001B[A\n",
      "  5%|▍         | 4/81 [00:01<00:29,  2.62it/s]\u001B[A\n",
      "  6%|▌         | 5/81 [00:01<00:29,  2.61it/s]\u001B[A\n",
      "  7%|▋         | 6/81 [00:02<00:28,  2.60it/s]\u001B[A\n",
      "  9%|▊         | 7/81 [00:02<00:28,  2.61it/s]\u001B[A\n",
      " 10%|▉         | 8/81 [00:03<00:27,  2.61it/s]\u001B[A\n",
      " 11%|█         | 9/81 [00:03<00:27,  2.61it/s]\u001B[A\n",
      " 12%|█▏        | 10/81 [00:03<00:27,  2.60it/s]\u001B[A\n",
      " 14%|█▎        | 11/81 [00:04<00:26,  2.60it/s]\u001B[A\n",
      " 15%|█▍        | 12/81 [00:04<00:26,  2.59it/s]\u001B[A\n",
      " 16%|█▌        | 13/81 [00:04<00:26,  2.60it/s]\u001B[A\n",
      " 17%|█▋        | 14/81 [00:05<00:25,  2.60it/s]\u001B[A\n",
      " 19%|█▊        | 15/81 [00:05<00:25,  2.60it/s]\u001B[A\n",
      " 20%|█▉        | 16/81 [00:06<00:25,  2.60it/s]\u001B[A\n",
      " 21%|██        | 17/81 [00:06<00:24,  2.58it/s]\u001B[A\n",
      " 22%|██▏       | 18/81 [00:06<00:24,  2.57it/s]\u001B[A\n",
      " 23%|██▎       | 19/81 [00:07<00:24,  2.58it/s]\u001B[A\n",
      " 25%|██▍       | 20/81 [00:07<00:23,  2.59it/s]\u001B[A\n",
      " 26%|██▌       | 21/81 [00:08<00:23,  2.55it/s]\u001B[A\n",
      " 27%|██▋       | 22/81 [00:08<00:22,  2.57it/s]\u001B[A\n",
      " 28%|██▊       | 23/81 [00:08<00:22,  2.59it/s]\u001B[A\n",
      " 30%|██▉       | 24/81 [00:09<00:21,  2.61it/s]\u001B[A\n",
      " 31%|███       | 25/81 [00:09<00:21,  2.62it/s]\u001B[A\n",
      " 32%|███▏      | 26/81 [00:09<00:20,  2.63it/s]\u001B[A\n",
      " 33%|███▎      | 27/81 [00:10<00:20,  2.61it/s]\u001B[A\n",
      " 35%|███▍      | 28/81 [00:10<00:20,  2.60it/s]\u001B[A\n",
      " 36%|███▌      | 29/81 [00:11<00:19,  2.62it/s]\u001B[A\n",
      " 37%|███▋      | 30/81 [00:11<00:19,  2.61it/s]\u001B[A\n",
      " 38%|███▊      | 31/81 [00:11<00:19,  2.62it/s]\u001B[A\n",
      " 40%|███▉      | 32/81 [00:12<00:18,  2.63it/s]\u001B[A\n",
      " 41%|████      | 33/81 [00:12<00:18,  2.63it/s]\u001B[A\n",
      " 42%|████▏     | 34/81 [00:13<00:17,  2.63it/s]\u001B[A\n",
      " 43%|████▎     | 35/81 [00:13<00:17,  2.64it/s]\u001B[A\n",
      " 44%|████▍     | 36/81 [00:13<00:17,  2.64it/s]\u001B[A\n",
      " 46%|████▌     | 37/81 [00:14<00:16,  2.64it/s]\u001B[A\n",
      " 47%|████▋     | 38/81 [00:14<00:16,  2.64it/s]\u001B[A\n",
      " 48%|████▊     | 39/81 [00:14<00:15,  2.63it/s]\u001B[A\n",
      " 49%|████▉     | 40/81 [00:15<00:15,  2.60it/s]\u001B[A\n",
      " 51%|█████     | 41/81 [00:15<00:15,  2.61it/s]\u001B[A\n",
      " 52%|█████▏    | 42/81 [00:16<00:14,  2.62it/s]\u001B[A\n",
      " 53%|█████▎    | 43/81 [00:16<00:14,  2.62it/s]\u001B[A\n",
      " 54%|█████▍    | 44/81 [00:16<00:14,  2.62it/s]\u001B[A\n",
      " 56%|█████▌    | 45/81 [00:17<00:13,  2.62it/s]\u001B[A\n",
      " 57%|█████▋    | 46/81 [00:17<00:13,  2.62it/s]\u001B[A\n",
      " 58%|█████▊    | 47/81 [00:17<00:12,  2.64it/s]\u001B[A\n",
      " 59%|█████▉    | 48/81 [00:18<00:12,  2.64it/s]\u001B[A\n",
      " 60%|██████    | 49/81 [00:18<00:12,  2.64it/s]\u001B[A\n",
      " 62%|██████▏   | 50/81 [00:19<00:11,  2.64it/s]\u001B[A\n",
      " 63%|██████▎   | 51/81 [00:19<00:11,  2.65it/s]\u001B[A\n",
      " 64%|██████▍   | 52/81 [00:19<00:10,  2.65it/s]\u001B[A\n",
      " 65%|██████▌   | 53/81 [00:20<00:10,  2.65it/s]\u001B[A\n",
      " 67%|██████▋   | 54/81 [00:20<00:10,  2.65it/s]\u001B[A\n",
      " 68%|██████▊   | 55/81 [00:21<00:09,  2.64it/s]\u001B[A\n",
      " 69%|██████▉   | 56/81 [00:21<00:09,  2.64it/s]\u001B[A\n",
      " 70%|███████   | 57/81 [00:21<00:09,  2.64it/s]\u001B[A\n",
      " 72%|███████▏  | 58/81 [00:22<00:08,  2.56it/s]\u001B[A\n",
      " 73%|███████▎  | 59/81 [00:22<00:08,  2.55it/s]\u001B[A\n",
      " 74%|███████▍  | 60/81 [00:22<00:08,  2.57it/s]\u001B[A\n",
      " 75%|███████▌  | 61/81 [00:23<00:07,  2.58it/s]\u001B[A\n",
      " 77%|███████▋  | 62/81 [00:23<00:07,  2.59it/s]\u001B[A\n",
      " 78%|███████▊  | 63/81 [00:24<00:06,  2.60it/s]\u001B[A\n",
      " 79%|███████▉  | 64/81 [00:24<00:06,  2.60it/s]\u001B[A\n",
      " 80%|████████  | 65/81 [00:24<00:06,  2.60it/s]\u001B[A\n",
      " 81%|████████▏ | 66/81 [00:25<00:05,  2.61it/s]\u001B[A\n",
      " 83%|████████▎ | 67/81 [00:25<00:05,  2.60it/s]\u001B[A\n",
      " 84%|████████▍ | 68/81 [00:26<00:04,  2.60it/s]\u001B[A\n",
      " 85%|████████▌ | 69/81 [00:26<00:04,  2.59it/s]\u001B[A\n",
      " 86%|████████▋ | 70/81 [00:26<00:04,  2.57it/s]\u001B[A\n",
      " 88%|████████▊ | 71/81 [00:27<00:03,  2.58it/s]\u001B[A\n",
      " 89%|████████▉ | 72/81 [00:27<00:03,  2.58it/s]\u001B[A\n",
      " 90%|█████████ | 73/81 [00:27<00:03,  2.57it/s]\u001B[A\n",
      " 91%|█████████▏| 74/81 [00:28<00:02,  2.59it/s]\u001B[A\n",
      " 93%|█████████▎| 75/81 [00:28<00:02,  2.59it/s]\u001B[A\n",
      " 94%|█████████▍| 76/81 [00:29<00:01,  2.59it/s]\u001B[A\n",
      " 95%|█████████▌| 77/81 [00:29<00:01,  2.57it/s]\u001B[A\n",
      " 96%|█████████▋| 78/81 [00:29<00:01,  2.58it/s]\u001B[A\n",
      " 98%|█████████▊| 79/81 [00:30<00:00,  2.59it/s]\u001B[A\n",
      " 99%|█████████▉| 80/81 [00:30<00:00,  2.59it/s]\u001B[A\n",
      "100%|██████████| 81/81 [00:31<00:00,  2.61it/s]\u001B[A\n"
     ]
    },
    {
     "name": "stdout",
     "output_type": "stream",
     "text": [
      "[953.16049383 466.59259259]\n"
     ]
    },
    {
     "name": "stderr",
     "output_type": "stream",
     "text": [
      " 70%|███████   | 7/10 [03:01<01:27, 29.24s/it]"
     ]
    },
    {
     "name": "stdout",
     "output_type": "stream",
     "text": [
      "------------------\n",
      "PESQ: tensor(1.0697)\n",
      "STOI: tensor(0.0845)\n",
      "ESTOI: tensor(0.0227)\n",
      "------------------\n",
      "<_dlib_pybind11.fhog_object_detector object at 0x7fe0b604cbf0> <_dlib_pybind11.shape_predictor object at 0x7fe0b2d64470>\n",
      "Calculate Centroid\n"
     ]
    },
    {
     "name": "stderr",
     "output_type": "stream",
     "text": [
      "\n",
      "  0%|          | 0/94 [00:00<?, ?it/s]\u001B[A\n",
      "  1%|          | 1/94 [00:00<00:35,  2.59it/s]\u001B[A\n",
      "  2%|▏         | 2/94 [00:00<00:34,  2.63it/s]\u001B[A\n",
      "  3%|▎         | 3/94 [00:01<00:35,  2.57it/s]\u001B[A\n",
      "  4%|▍         | 4/94 [00:01<00:35,  2.54it/s]\u001B[A\n",
      "  5%|▌         | 5/94 [00:01<00:34,  2.57it/s]\u001B[A\n",
      "  6%|▋         | 6/94 [00:02<00:33,  2.59it/s]\u001B[A\n",
      "  7%|▋         | 7/94 [00:02<00:33,  2.60it/s]\u001B[A\n",
      "  9%|▊         | 8/94 [00:03<00:33,  2.60it/s]\u001B[A\n",
      " 10%|▉         | 9/94 [00:03<00:32,  2.60it/s]\u001B[A\n",
      " 11%|█         | 10/94 [00:03<00:32,  2.57it/s]\u001B[A\n",
      " 12%|█▏        | 11/94 [00:04<00:32,  2.57it/s]\u001B[A\n",
      " 13%|█▎        | 12/94 [00:04<00:31,  2.58it/s]\u001B[A\n",
      " 14%|█▍        | 13/94 [00:05<00:31,  2.58it/s]\u001B[A\n",
      " 15%|█▍        | 14/94 [00:05<00:31,  2.57it/s]\u001B[A\n",
      " 16%|█▌        | 15/94 [00:05<00:30,  2.58it/s]\u001B[A\n",
      " 17%|█▋        | 16/94 [00:06<00:30,  2.57it/s]\u001B[A\n",
      " 18%|█▊        | 17/94 [00:06<00:29,  2.59it/s]\u001B[A\n",
      " 19%|█▉        | 18/94 [00:06<00:29,  2.61it/s]\u001B[A\n",
      " 20%|██        | 19/94 [00:07<00:28,  2.62it/s]\u001B[A\n",
      " 21%|██▏       | 20/94 [00:07<00:28,  2.61it/s]\u001B[A\n",
      " 22%|██▏       | 21/94 [00:08<00:28,  2.60it/s]\u001B[A\n",
      " 23%|██▎       | 22/94 [00:08<00:27,  2.58it/s]\u001B[A\n",
      " 24%|██▍       | 23/94 [00:08<00:27,  2.58it/s]\u001B[A\n",
      " 26%|██▌       | 24/94 [00:09<00:27,  2.58it/s]\u001B[A\n",
      " 27%|██▋       | 25/94 [00:09<00:26,  2.59it/s]\u001B[A\n",
      " 28%|██▊       | 26/94 [00:10<00:26,  2.60it/s]\u001B[A\n",
      " 29%|██▊       | 27/94 [00:10<00:25,  2.59it/s]\u001B[A\n",
      " 30%|██▉       | 28/94 [00:10<00:25,  2.59it/s]\u001B[A\n",
      " 31%|███       | 29/94 [00:11<00:25,  2.54it/s]\u001B[A\n",
      " 32%|███▏      | 30/94 [00:11<00:24,  2.57it/s]\u001B[A\n",
      " 33%|███▎      | 31/94 [00:11<00:24,  2.59it/s]\u001B[A\n",
      " 34%|███▍      | 32/94 [00:12<00:23,  2.59it/s]\u001B[A\n",
      " 35%|███▌      | 33/94 [00:12<00:23,  2.60it/s]\u001B[A\n",
      " 36%|███▌      | 34/94 [00:13<00:23,  2.58it/s]\u001B[A\n",
      " 37%|███▋      | 35/94 [00:13<00:23,  2.53it/s]\u001B[A\n",
      " 38%|███▊      | 36/94 [00:13<00:22,  2.56it/s]\u001B[A\n",
      " 39%|███▉      | 37/94 [00:14<00:22,  2.57it/s]\u001B[A\n",
      " 40%|████      | 38/94 [00:14<00:21,  2.58it/s]\u001B[A\n",
      " 41%|████▏     | 39/94 [00:15<00:21,  2.60it/s]\u001B[A\n",
      " 43%|████▎     | 40/94 [00:15<00:20,  2.59it/s]\u001B[A\n",
      " 44%|████▎     | 41/94 [00:15<00:20,  2.57it/s]\u001B[A\n",
      " 45%|████▍     | 42/94 [00:16<00:20,  2.58it/s]\u001B[A\n",
      " 46%|████▌     | 43/94 [00:16<00:19,  2.60it/s]\u001B[A\n",
      " 47%|████▋     | 44/94 [00:17<00:19,  2.62it/s]\u001B[A\n",
      " 48%|████▊     | 45/94 [00:17<00:18,  2.62it/s]\u001B[A\n",
      " 49%|████▉     | 46/94 [00:17<00:18,  2.63it/s]\u001B[A\n",
      " 50%|█████     | 47/94 [00:18<00:17,  2.63it/s]\u001B[A\n",
      " 51%|█████     | 48/94 [00:18<00:17,  2.63it/s]\u001B[A\n",
      " 52%|█████▏    | 49/94 [00:18<00:17,  2.63it/s]\u001B[A\n",
      " 53%|█████▎    | 50/94 [00:19<00:16,  2.63it/s]\u001B[A\n",
      " 54%|█████▍    | 51/94 [00:19<00:16,  2.64it/s]\u001B[A\n",
      " 55%|█████▌    | 52/94 [00:20<00:15,  2.64it/s]\u001B[A\n",
      " 56%|█████▋    | 53/94 [00:20<00:15,  2.64it/s]\u001B[A\n",
      " 57%|█████▋    | 54/94 [00:20<00:15,  2.61it/s]\u001B[A\n",
      " 59%|█████▊    | 55/94 [00:21<00:14,  2.61it/s]\u001B[A\n",
      " 60%|█████▉    | 56/94 [00:21<00:14,  2.62it/s]\u001B[A\n",
      " 61%|██████    | 57/94 [00:21<00:14,  2.62it/s]\u001B[A\n",
      " 62%|██████▏   | 58/94 [00:22<00:13,  2.62it/s]\u001B[A\n",
      " 63%|██████▎   | 59/94 [00:22<00:13,  2.62it/s]\u001B[A\n",
      " 64%|██████▍   | 60/94 [00:23<00:13,  2.61it/s]\u001B[A\n",
      " 65%|██████▍   | 61/94 [00:23<00:12,  2.57it/s]\u001B[A\n",
      " 66%|██████▌   | 62/94 [00:23<00:12,  2.59it/s]\u001B[A\n",
      " 67%|██████▋   | 63/94 [00:24<00:11,  2.60it/s]\u001B[A\n",
      " 68%|██████▊   | 64/94 [00:24<00:11,  2.61it/s]\u001B[A\n",
      " 69%|██████▉   | 65/94 [00:25<00:11,  2.62it/s]\u001B[A\n",
      " 70%|███████   | 66/94 [00:25<00:10,  2.62it/s]\u001B[A\n",
      " 71%|███████▏  | 67/94 [00:25<00:10,  2.62it/s]\u001B[A\n",
      " 72%|███████▏  | 68/94 [00:26<00:09,  2.60it/s]\u001B[A\n",
      " 73%|███████▎  | 69/94 [00:26<00:09,  2.61it/s]\u001B[A\n",
      " 74%|███████▍  | 70/94 [00:26<00:09,  2.61it/s]\u001B[A\n",
      " 76%|███████▌  | 71/94 [00:27<00:08,  2.62it/s]\u001B[A\n",
      " 77%|███████▋  | 72/94 [00:27<00:08,  2.62it/s]\u001B[A\n",
      " 78%|███████▊  | 73/94 [00:28<00:08,  2.60it/s]\u001B[A\n",
      " 79%|███████▊  | 74/94 [00:28<00:07,  2.61it/s]\u001B[A\n",
      " 80%|███████▉  | 75/94 [00:28<00:07,  2.62it/s]\u001B[A\n",
      " 81%|████████  | 76/94 [00:29<00:06,  2.63it/s]\u001B[A\n",
      " 82%|████████▏ | 77/94 [00:29<00:06,  2.63it/s]\u001B[A\n",
      " 83%|████████▎ | 78/94 [00:30<00:06,  2.63it/s]\u001B[A\n",
      " 84%|████████▍ | 79/94 [00:30<00:05,  2.64it/s]\u001B[A\n",
      " 85%|████████▌ | 80/94 [00:30<00:05,  2.65it/s]\u001B[A\n",
      " 86%|████████▌ | 81/94 [00:31<00:04,  2.65it/s]\u001B[A\n",
      " 87%|████████▋ | 82/94 [00:31<00:04,  2.66it/s]\u001B[A\n",
      " 88%|████████▊ | 83/94 [00:31<00:04,  2.66it/s]\u001B[A\n",
      " 89%|████████▉ | 84/94 [00:32<00:03,  2.66it/s]\u001B[A\n",
      " 90%|█████████ | 85/94 [00:32<00:03,  2.66it/s]\u001B[A\n",
      " 91%|█████████▏| 86/94 [00:33<00:03,  2.66it/s]\u001B[A\n",
      " 93%|█████████▎| 87/94 [00:33<00:02,  2.63it/s]\u001B[A\n",
      " 94%|█████████▎| 88/94 [00:33<00:02,  2.60it/s]\u001B[A\n",
      " 95%|█████████▍| 89/94 [00:34<00:01,  2.61it/s]\u001B[A\n",
      " 96%|█████████▌| 90/94 [00:34<00:01,  2.62it/s]\u001B[A\n",
      " 97%|█████████▋| 91/94 [00:34<00:01,  2.63it/s]\u001B[A\n",
      " 98%|█████████▊| 92/94 [00:35<00:00,  2.62it/s]\u001B[A\n",
      " 99%|█████████▉| 93/94 [00:35<00:00,  2.63it/s]\u001B[A\n",
      "100%|██████████| 94/94 [00:36<00:00,  2.61it/s]\u001B[A\n"
     ]
    },
    {
     "name": "stdout",
     "output_type": "stream",
     "text": [
      "[952.11702128 467.84042553]\n"
     ]
    },
    {
     "name": "stderr",
     "output_type": "stream",
     "text": [
      " 80%|████████  | 8/10 [03:40<01:04, 32.33s/it]"
     ]
    },
    {
     "name": "stdout",
     "output_type": "stream",
     "text": [
      "------------------\n",
      "PESQ: tensor(1.0911)\n",
      "STOI: tensor(0.0203)\n",
      "ESTOI: tensor(0.0026)\n",
      "------------------\n",
      "<_dlib_pybind11.fhog_object_detector object at 0x7fe0c20491b0> <_dlib_pybind11.shape_predictor object at 0x7fe0b6046130>\n",
      "Calculate Centroid\n"
     ]
    },
    {
     "name": "stderr",
     "output_type": "stream",
     "text": [
      "\n",
      "  0%|          | 0/80 [00:00<?, ?it/s]\u001B[A\n",
      "  1%|▏         | 1/80 [00:00<00:30,  2.61it/s]\u001B[A\n",
      "  2%|▎         | 2/80 [00:00<00:29,  2.62it/s]\u001B[A\n",
      "  4%|▍         | 3/80 [00:01<00:29,  2.59it/s]\u001B[A\n",
      "  5%|▌         | 4/80 [00:01<00:29,  2.60it/s]\u001B[A\n",
      "  6%|▋         | 5/80 [00:01<00:28,  2.62it/s]\u001B[A\n",
      "  8%|▊         | 6/80 [00:02<00:28,  2.62it/s]\u001B[A\n",
      "  9%|▉         | 7/80 [00:02<00:27,  2.63it/s]\u001B[A\n",
      " 10%|█         | 8/80 [00:03<00:27,  2.63it/s]\u001B[A\n",
      " 11%|█▏        | 9/80 [00:03<00:27,  2.63it/s]\u001B[A\n",
      " 12%|█▎        | 10/80 [00:03<00:26,  2.60it/s]\u001B[A\n",
      " 14%|█▍        | 11/80 [00:04<00:26,  2.59it/s]\u001B[A\n",
      " 15%|█▌        | 12/80 [00:04<00:26,  2.59it/s]\u001B[A\n",
      " 16%|█▋        | 13/80 [00:04<00:25,  2.59it/s]\u001B[A\n",
      " 18%|█▊        | 14/80 [00:05<00:25,  2.60it/s]\u001B[A\n",
      " 19%|█▉        | 15/80 [00:05<00:24,  2.61it/s]\u001B[A\n",
      " 20%|██        | 16/80 [00:06<00:24,  2.60it/s]\u001B[A\n",
      " 21%|██▏       | 17/80 [00:06<00:24,  2.60it/s]\u001B[A\n",
      " 22%|██▎       | 18/80 [00:06<00:24,  2.54it/s]\u001B[A\n",
      " 24%|██▍       | 19/80 [00:07<00:23,  2.56it/s]\u001B[A\n",
      " 25%|██▌       | 20/80 [00:07<00:23,  2.56it/s]\u001B[A\n",
      " 26%|██▋       | 21/80 [00:08<00:23,  2.56it/s]\u001B[A\n",
      " 28%|██▊       | 22/80 [00:08<00:22,  2.57it/s]\u001B[A\n",
      " 29%|██▉       | 23/80 [00:08<00:22,  2.55it/s]\u001B[A\n",
      " 30%|███       | 24/80 [00:09<00:21,  2.57it/s]\u001B[A\n",
      " 31%|███▏      | 25/80 [00:09<00:21,  2.59it/s]\u001B[A\n",
      " 32%|███▎      | 26/80 [00:10<00:20,  2.60it/s]\u001B[A\n",
      " 34%|███▍      | 27/80 [00:10<00:20,  2.61it/s]\u001B[A\n",
      " 35%|███▌      | 28/80 [00:10<00:19,  2.62it/s]\u001B[A\n",
      " 36%|███▋      | 29/80 [00:11<00:19,  2.62it/s]\u001B[A\n",
      " 38%|███▊      | 30/80 [00:11<00:19,  2.62it/s]\u001B[A\n",
      " 39%|███▉      | 31/80 [00:11<00:18,  2.62it/s]\u001B[A\n",
      " 40%|████      | 32/80 [00:12<00:18,  2.63it/s]\u001B[A\n",
      " 41%|████▏     | 33/80 [00:12<00:17,  2.64it/s]\u001B[A\n",
      " 42%|████▎     | 34/80 [00:13<00:17,  2.65it/s]\u001B[A\n",
      " 44%|████▍     | 35/80 [00:13<00:16,  2.66it/s]\u001B[A\n",
      " 45%|████▌     | 36/80 [00:13<00:16,  2.66it/s]\u001B[A\n",
      " 46%|████▋     | 37/80 [00:14<00:16,  2.64it/s]\u001B[A\n",
      " 48%|████▊     | 38/80 [00:14<00:16,  2.58it/s]\u001B[A\n",
      " 49%|████▉     | 39/80 [00:14<00:15,  2.61it/s]\u001B[A\n",
      " 50%|█████     | 40/80 [00:15<00:15,  2.62it/s]\u001B[A\n",
      " 51%|█████▏    | 41/80 [00:15<00:14,  2.64it/s]\u001B[A\n",
      " 52%|█████▎    | 42/80 [00:16<00:14,  2.64it/s]\u001B[A\n",
      " 54%|█████▍    | 43/80 [00:16<00:13,  2.65it/s]\u001B[A\n",
      " 55%|█████▌    | 44/80 [00:16<00:13,  2.65it/s]\u001B[A\n",
      " 56%|█████▋    | 45/80 [00:17<00:13,  2.66it/s]\u001B[A\n",
      " 57%|█████▊    | 46/80 [00:17<00:12,  2.66it/s]\u001B[A\n",
      " 59%|█████▉    | 47/80 [00:17<00:12,  2.67it/s]\u001B[A\n",
      " 60%|██████    | 48/80 [00:18<00:11,  2.67it/s]\u001B[A\n",
      " 61%|██████▏   | 49/80 [00:18<00:11,  2.67it/s]\u001B[A\n",
      " 62%|██████▎   | 50/80 [00:19<00:11,  2.66it/s]\u001B[A\n",
      " 64%|██████▍   | 51/80 [00:19<00:10,  2.66it/s]\u001B[A\n",
      " 65%|██████▌   | 52/80 [00:19<00:10,  2.66it/s]\u001B[A\n",
      " 66%|██████▋   | 53/80 [00:20<00:10,  2.67it/s]\u001B[A\n",
      " 68%|██████▊   | 54/80 [00:20<00:09,  2.66it/s]\u001B[A\n",
      " 69%|██████▉   | 55/80 [00:20<00:09,  2.66it/s]\u001B[A\n",
      " 70%|███████   | 56/80 [00:21<00:09,  2.66it/s]\u001B[A\n",
      " 71%|███████▏  | 57/80 [00:21<00:08,  2.64it/s]\u001B[A\n",
      " 72%|███████▎  | 58/80 [00:22<00:08,  2.64it/s]\u001B[A\n",
      " 74%|███████▍  | 59/80 [00:22<00:07,  2.64it/s]\u001B[A\n",
      " 75%|███████▌  | 60/80 [00:22<00:07,  2.65it/s]\u001B[A\n",
      " 76%|███████▋  | 61/80 [00:23<00:07,  2.64it/s]\u001B[A\n",
      " 78%|███████▊  | 62/80 [00:23<00:06,  2.65it/s]\u001B[A\n",
      " 79%|███████▉  | 63/80 [00:24<00:06,  2.65it/s]\u001B[A\n",
      " 80%|████████  | 64/80 [00:24<00:06,  2.65it/s]\u001B[A\n",
      " 81%|████████▏ | 65/80 [00:24<00:05,  2.65it/s]\u001B[A\n",
      " 82%|████████▎ | 66/80 [00:25<00:05,  2.66it/s]\u001B[A\n",
      " 84%|████████▍ | 67/80 [00:25<00:04,  2.67it/s]\u001B[A\n",
      " 85%|████████▌ | 68/80 [00:25<00:04,  2.65it/s]\u001B[A\n",
      " 86%|████████▋ | 69/80 [00:26<00:04,  2.63it/s]\u001B[A\n",
      " 88%|████████▊ | 70/80 [00:26<00:03,  2.62it/s]\u001B[A\n",
      " 89%|████████▉ | 71/80 [00:27<00:03,  2.62it/s]\u001B[A\n",
      " 90%|█████████ | 72/80 [00:27<00:03,  2.63it/s]\u001B[A\n",
      " 91%|█████████▏| 73/80 [00:27<00:02,  2.63it/s]\u001B[A\n",
      " 92%|█████████▎| 74/80 [00:28<00:02,  2.63it/s]\u001B[A\n",
      " 94%|█████████▍| 75/80 [00:28<00:01,  2.63it/s]\u001B[A\n",
      " 95%|█████████▌| 76/80 [00:28<00:01,  2.63it/s]\u001B[A\n",
      " 96%|█████████▋| 77/80 [00:29<00:01,  2.64it/s]\u001B[A\n",
      " 98%|█████████▊| 78/80 [00:29<00:00,  2.65it/s]\u001B[A\n",
      " 99%|█████████▉| 79/80 [00:30<00:00,  2.65it/s]\u001B[A\n",
      "100%|██████████| 80/80 [00:30<00:00,  2.63it/s]\u001B[A\n"
     ]
    },
    {
     "name": "stdout",
     "output_type": "stream",
     "text": [
      "[952.7   459.125]\n"
     ]
    },
    {
     "name": "stderr",
     "output_type": "stream",
     "text": [
      " 90%|█████████ | 9/10 [04:13<00:32, 32.71s/it]"
     ]
    },
    {
     "name": "stdout",
     "output_type": "stream",
     "text": [
      "------------------\n",
      "PESQ: tensor(1.0716)\n",
      "STOI: tensor(0.0884)\n",
      "ESTOI: tensor(0.0097)\n",
      "------------------\n",
      "<_dlib_pybind11.fhog_object_detector object at 0x7fe0c02c3630> <_dlib_pybind11.shape_predictor object at 0x7fe0c03541f0>\n",
      "Calculate Centroid\n"
     ]
    },
    {
     "name": "stderr",
     "output_type": "stream",
     "text": [
      "\n",
      "  0%|          | 0/62 [00:00<?, ?it/s]\u001B[A\n",
      "  2%|▏         | 1/62 [00:00<00:25,  2.43it/s]\u001B[A\n",
      "  3%|▎         | 2/62 [00:00<00:23,  2.53it/s]\u001B[A\n",
      "  5%|▍         | 3/62 [00:01<00:23,  2.54it/s]\u001B[A\n",
      "  6%|▋         | 4/62 [00:01<00:22,  2.58it/s]\u001B[A\n",
      "  8%|▊         | 5/62 [00:01<00:22,  2.57it/s]\u001B[A\n",
      " 10%|▉         | 6/62 [00:02<00:21,  2.58it/s]\u001B[A\n",
      " 11%|█▏        | 7/62 [00:02<00:21,  2.59it/s]\u001B[A\n",
      " 13%|█▎        | 8/62 [00:03<00:20,  2.59it/s]\u001B[A\n",
      " 15%|█▍        | 9/62 [00:03<00:20,  2.60it/s]\u001B[A\n",
      " 16%|█▌        | 10/62 [00:03<00:19,  2.61it/s]\u001B[A\n",
      " 18%|█▊        | 11/62 [00:04<00:19,  2.61it/s]\u001B[A\n",
      " 19%|█▉        | 12/62 [00:04<00:19,  2.61it/s]\u001B[A\n",
      " 21%|██        | 13/62 [00:05<00:18,  2.61it/s]\u001B[A\n",
      " 23%|██▎       | 14/62 [00:05<00:18,  2.63it/s]\u001B[A\n",
      " 24%|██▍       | 15/62 [00:05<00:17,  2.63it/s]\u001B[A\n",
      " 26%|██▌       | 16/62 [00:06<00:17,  2.64it/s]\u001B[A\n",
      " 27%|██▋       | 17/62 [00:06<00:17,  2.64it/s]\u001B[A\n",
      " 29%|██▉       | 18/62 [00:06<00:16,  2.63it/s]\u001B[A\n",
      " 31%|███       | 19/62 [00:07<00:16,  2.62it/s]\u001B[A\n",
      " 32%|███▏      | 20/62 [00:07<00:15,  2.63it/s]\u001B[A\n",
      " 34%|███▍      | 21/62 [00:08<00:15,  2.63it/s]\u001B[A\n",
      " 35%|███▌      | 22/62 [00:08<00:15,  2.63it/s]\u001B[A\n",
      " 37%|███▋      | 23/62 [00:08<00:14,  2.63it/s]\u001B[A\n",
      " 39%|███▊      | 24/62 [00:09<00:14,  2.65it/s]\u001B[A\n",
      " 40%|████      | 25/62 [00:09<00:13,  2.65it/s]\u001B[A\n",
      " 42%|████▏     | 26/62 [00:09<00:13,  2.64it/s]\u001B[A\n",
      " 44%|████▎     | 27/62 [00:10<00:13,  2.65it/s]\u001B[A\n",
      " 45%|████▌     | 28/62 [00:10<00:12,  2.65it/s]\u001B[A\n",
      " 47%|████▋     | 29/62 [00:11<00:12,  2.64it/s]\u001B[A\n",
      " 48%|████▊     | 30/62 [00:11<00:12,  2.64it/s]\u001B[A\n",
      " 50%|█████     | 31/62 [00:11<00:11,  2.64it/s]\u001B[A\n",
      " 52%|█████▏    | 32/62 [00:12<00:11,  2.63it/s]\u001B[A\n",
      " 53%|█████▎    | 33/62 [00:12<00:11,  2.63it/s]\u001B[A\n",
      " 55%|█████▍    | 34/62 [00:12<00:10,  2.63it/s]\u001B[A\n",
      " 56%|█████▋    | 35/62 [00:13<00:10,  2.63it/s]\u001B[A\n",
      " 58%|█████▊    | 36/62 [00:13<00:10,  2.58it/s]\u001B[A\n",
      " 60%|█████▉    | 37/62 [00:14<00:09,  2.60it/s]\u001B[A\n",
      " 61%|██████▏   | 38/62 [00:14<00:09,  2.62it/s]\u001B[A\n",
      " 63%|██████▎   | 39/62 [00:14<00:08,  2.63it/s]\u001B[A\n",
      " 65%|██████▍   | 40/62 [00:15<00:08,  2.64it/s]\u001B[A\n",
      " 66%|██████▌   | 41/62 [00:15<00:07,  2.64it/s]\u001B[A\n",
      " 68%|██████▊   | 42/62 [00:16<00:07,  2.65it/s]\u001B[A\n",
      " 69%|██████▉   | 43/62 [00:16<00:07,  2.64it/s]\u001B[A\n",
      " 71%|███████   | 44/62 [00:16<00:06,  2.64it/s]\u001B[A\n",
      " 73%|███████▎  | 45/62 [00:17<00:06,  2.65it/s]\u001B[A\n",
      " 74%|███████▍  | 46/62 [00:17<00:06,  2.65it/s]\u001B[A\n",
      " 76%|███████▌  | 47/62 [00:17<00:05,  2.66it/s]\u001B[A\n",
      " 77%|███████▋  | 48/62 [00:18<00:05,  2.66it/s]\u001B[A\n",
      " 79%|███████▉  | 49/62 [00:18<00:04,  2.66it/s]\u001B[A\n",
      " 81%|████████  | 50/62 [00:19<00:04,  2.66it/s]\u001B[A\n",
      " 82%|████████▏ | 51/62 [00:19<00:04,  2.66it/s]\u001B[A\n",
      " 84%|████████▍ | 52/62 [00:19<00:03,  2.62it/s]\u001B[A\n",
      " 85%|████████▌ | 53/62 [00:20<00:03,  2.63it/s]\u001B[A\n",
      " 87%|████████▋ | 54/62 [00:20<00:03,  2.62it/s]\u001B[A\n",
      " 89%|████████▊ | 55/62 [00:20<00:02,  2.61it/s]\u001B[A\n",
      " 90%|█████████ | 56/62 [00:21<00:02,  2.62it/s]\u001B[A\n",
      " 92%|█████████▏| 57/62 [00:21<00:01,  2.63it/s]\u001B[A\n",
      " 94%|█████████▎| 58/62 [00:22<00:01,  2.64it/s]\u001B[A\n",
      " 95%|█████████▌| 59/62 [00:22<00:01,  2.62it/s]\u001B[A\n",
      " 97%|█████████▋| 60/62 [00:22<00:00,  2.60it/s]\u001B[A\n",
      " 98%|█████████▊| 61/62 [00:23<00:00,  2.59it/s]\u001B[A\n",
      "100%|██████████| 62/62 [00:23<00:00,  2.62it/s]\u001B[A\n"
     ]
    },
    {
     "name": "stdout",
     "output_type": "stream",
     "text": [
      "[951.59677419 469.        ]\n"
     ]
    },
    {
     "name": "stderr",
     "output_type": "stream",
     "text": [
      "100%|██████████| 10/10 [04:39<00:00, 27.97s/it]"
     ]
    },
    {
     "name": "stdout",
     "output_type": "stream",
     "text": [
      "------------------\n",
      "PESQ: tensor(1.0984)\n",
      "STOI: tensor(0.0708)\n",
      "ESTOI: tensor(0.0130)\n",
      "------------------\n"
     ]
    },
    {
     "name": "stderr",
     "output_type": "stream",
     "text": [
      "\n"
     ]
    }
   ],
   "source": [
    "scores = {}\n",
    "scores[\"PESQ\"] = []\n",
    "scores[\"STOI\"] = []\n",
    "scores[\"ESTOI\"] = []\n",
    "pred_wavs = []\n",
    "for i in tqdm(range(len(videos))):\n",
    "# for i in tqdm(range(1, 2)):\n",
    "    filepath_prediction, filepath_latent, filepath_ori = generate_filenames()\n",
    "    ori_video = videos[i]\n",
    "    ori_audio = audios[i]\n",
    "    preprocessed_frames = preprocess_video(\n",
    "        rid=None,\n",
    "        transforms=transforms,\n",
    "        frames=ori_video,\n",
    "        vid_size=arr_size,\n",
    "        local=False,\n",
    "        to_gray=True\n",
    "    )\n",
    "    # Split Video\n",
    "    video_batch = split_video(\n",
    "        frames=preprocessed_frames,\n",
    "        split_frames=data[\"frames\"],\n",
    "        stride=data[\"frames\"],\n",
    "        total_frames=len(preprocessed_frames)\n",
    "    )\n",
    "    video_batch = video_batch.cuda()\n",
    "\n",
    "    pred_audios = []\n",
    "    pred_latents = []\n",
    "    pred_mels = []\n",
    "\n",
    "    for j in range(len(video_batch)):\n",
    "        video = video_batch[j].unsqueeze(0).cuda()\n",
    "\n",
    "        (ori_mels, ori_latent, ori_audio), (target_mels, target_latent, target_wav) = predict(\n",
    "            visual_model=visual_model,\n",
    "            filepaths=(filepath_prediction, filepath_latent, filepath_ori),\n",
    "            ori_video=ori_video,\n",
    "            video_batch=video,\n",
    "            audio_model=audio_model,\n",
    "            ori_audio=ori_audio,\n",
    "            label_batch=None,\n",
    "            generate_video=False\n",
    "        )\n",
    "        pred_audios.append(target_wav)\n",
    "        pred_latents.append(target_latent)\n",
    "        pred_mels.append(target_mels)\n",
    "\n",
    "        # audio_model, visual_model = reload_model(cwd, model_conf, data, experiment, learning_rate)\n",
    "        del video\n",
    "        torch.cuda.empty_cache()\n",
    "    target_wav = sew_audios(pred_audios)\n",
    "    target_wav = prep_audio(target_wav, len(ori_audio))\n",
    "    target_wav = torch.from_numpy(target_wav)\n",
    "    ori_audio = torch.from_numpy(ori_audio)\n",
    "    sf.write(f\"{pred_dir}/{i}_pred.wav\", target_wav, samplerate=16000)\n",
    "    sf.write(f\"{pred_dir}/{i}_ori.wav\", ori_audio, samplerate=16000)\n",
    "    pred_wavs.append(target_wav)\n",
    "    pesq = perceptual_evaluation_speech_quality(target_wav, ori_audio, 16000, \"wb\")\n",
    "    stoi = short_time_objective_intelligibility(target_wav, ori_audio, 16000).float()\n",
    "    estoi = short_time_objective_intelligibility(target_wav, ori_audio, 16000, extended=True).float()\n",
    "    scores[\"PESQ\"].append(pesq)\n",
    "    scores[\"STOI\"].append(stoi)\n",
    "    scores[\"ESTOI\"].append(estoi)\n",
    "    print_metric(pesq, stoi, estoi)\n"
   ]
  },
  {
   "cell_type": "code",
   "execution_count": 16,
   "metadata": {
    "ExecuteTime": {
     "start_time": "2023-06-05T23:33:53.819742Z",
     "end_time": "2023-06-05T23:34:26.851438Z"
    }
   },
   "outputs": [
    {
     "name": "stdout",
     "output_type": "stream",
     "text": [
      "Moviepy - Building video ../resources/data/YouTube/unpas/results/0_ori.MP4.\n",
      "MoviePy - Writing audio in 0_oriTEMP_MPY_wvf_snd.mp4\n"
     ]
    },
    {
     "name": "stderr",
     "output_type": "stream",
     "text": [
      "                                                       "
     ]
    },
    {
     "name": "stdout",
     "output_type": "stream",
     "text": [
      "MoviePy - Done.\n",
      "Moviepy - Writing video ../resources/data/YouTube/unpas/results/0_ori.MP4\n",
      "\n"
     ]
    },
    {
     "name": "stderr",
     "output_type": "stream",
     "text": [
      "                                                             \r"
     ]
    },
    {
     "name": "stdout",
     "output_type": "stream",
     "text": [
      "Moviepy - Done !\n",
      "Moviepy - video ready ../resources/data/YouTube/unpas/results/0_ori.MP4\n",
      "Moviepy - Building video ../resources/data/YouTube/unpas/results/0_pred.MP4.\n",
      "MoviePy - Writing audio in 0_predTEMP_MPY_wvf_snd.mp4\n"
     ]
    },
    {
     "name": "stderr",
     "output_type": "stream",
     "text": [
      "                                                       "
     ]
    },
    {
     "name": "stdout",
     "output_type": "stream",
     "text": [
      "MoviePy - Done.\n",
      "Moviepy - Writing video ../resources/data/YouTube/unpas/results/0_pred.MP4\n",
      "\n"
     ]
    },
    {
     "name": "stderr",
     "output_type": "stream",
     "text": [
      "                                                             \r"
     ]
    },
    {
     "name": "stdout",
     "output_type": "stream",
     "text": [
      "Moviepy - Done !\n",
      "Moviepy - video ready ../resources/data/YouTube/unpas/results/0_pred.MP4\n",
      "Moviepy - Building video ../resources/data/YouTube/unpas/results/1_ori.MP4.\n",
      "MoviePy - Writing audio in 1_oriTEMP_MPY_wvf_snd.mp4\n"
     ]
    },
    {
     "name": "stderr",
     "output_type": "stream",
     "text": [
      "                                                       "
     ]
    },
    {
     "name": "stdout",
     "output_type": "stream",
     "text": [
      "MoviePy - Done.\n",
      "Moviepy - Writing video ../resources/data/YouTube/unpas/results/1_ori.MP4\n",
      "\n"
     ]
    },
    {
     "name": "stderr",
     "output_type": "stream",
     "text": [
      "                                                             \r"
     ]
    },
    {
     "name": "stdout",
     "output_type": "stream",
     "text": [
      "Moviepy - Done !\n",
      "Moviepy - video ready ../resources/data/YouTube/unpas/results/1_ori.MP4\n",
      "Moviepy - Building video ../resources/data/YouTube/unpas/results/1_pred.MP4.\n",
      "MoviePy - Writing audio in 1_predTEMP_MPY_wvf_snd.mp4\n"
     ]
    },
    {
     "name": "stderr",
     "output_type": "stream",
     "text": [
      "                                                       "
     ]
    },
    {
     "name": "stdout",
     "output_type": "stream",
     "text": [
      "MoviePy - Done.\n",
      "Moviepy - Writing video ../resources/data/YouTube/unpas/results/1_pred.MP4\n",
      "\n"
     ]
    },
    {
     "name": "stderr",
     "output_type": "stream",
     "text": [
      "                                                             \r"
     ]
    },
    {
     "name": "stdout",
     "output_type": "stream",
     "text": [
      "Moviepy - Done !\n",
      "Moviepy - video ready ../resources/data/YouTube/unpas/results/1_pred.MP4\n",
      "Moviepy - Building video ../resources/data/YouTube/unpas/results/2_ori.MP4.\n",
      "MoviePy - Writing audio in 2_oriTEMP_MPY_wvf_snd.mp4\n"
     ]
    },
    {
     "name": "stderr",
     "output_type": "stream",
     "text": [
      "                                                       "
     ]
    },
    {
     "name": "stdout",
     "output_type": "stream",
     "text": [
      "MoviePy - Done.\n",
      "Moviepy - Writing video ../resources/data/YouTube/unpas/results/2_ori.MP4\n",
      "\n"
     ]
    },
    {
     "name": "stderr",
     "output_type": "stream",
     "text": [
      "                                                             \r"
     ]
    },
    {
     "name": "stdout",
     "output_type": "stream",
     "text": [
      "Moviepy - Done !\n",
      "Moviepy - video ready ../resources/data/YouTube/unpas/results/2_ori.MP4\n",
      "Moviepy - Building video ../resources/data/YouTube/unpas/results/2_pred.MP4.\n",
      "MoviePy - Writing audio in 2_predTEMP_MPY_wvf_snd.mp4\n"
     ]
    },
    {
     "name": "stderr",
     "output_type": "stream",
     "text": [
      "                                                       "
     ]
    },
    {
     "name": "stdout",
     "output_type": "stream",
     "text": [
      "MoviePy - Done.\n",
      "Moviepy - Writing video ../resources/data/YouTube/unpas/results/2_pred.MP4\n",
      "\n"
     ]
    },
    {
     "name": "stderr",
     "output_type": "stream",
     "text": [
      "                                                             \r"
     ]
    },
    {
     "name": "stdout",
     "output_type": "stream",
     "text": [
      "Moviepy - Done !\n",
      "Moviepy - video ready ../resources/data/YouTube/unpas/results/2_pred.MP4\n",
      "Moviepy - Building video ../resources/data/YouTube/unpas/results/3_ori.MP4.\n",
      "MoviePy - Writing audio in 3_oriTEMP_MPY_wvf_snd.mp4\n"
     ]
    },
    {
     "name": "stderr",
     "output_type": "stream",
     "text": [
      "                                                       "
     ]
    },
    {
     "name": "stdout",
     "output_type": "stream",
     "text": [
      "MoviePy - Done.\n",
      "Moviepy - Writing video ../resources/data/YouTube/unpas/results/3_ori.MP4\n",
      "\n"
     ]
    },
    {
     "name": "stderr",
     "output_type": "stream",
     "text": [
      "                                                             \r"
     ]
    },
    {
     "name": "stdout",
     "output_type": "stream",
     "text": [
      "Moviepy - Done !\n",
      "Moviepy - video ready ../resources/data/YouTube/unpas/results/3_ori.MP4\n",
      "Moviepy - Building video ../resources/data/YouTube/unpas/results/3_pred.MP4.\n",
      "MoviePy - Writing audio in 3_predTEMP_MPY_wvf_snd.mp4\n"
     ]
    },
    {
     "name": "stderr",
     "output_type": "stream",
     "text": [
      "                                                       "
     ]
    },
    {
     "name": "stdout",
     "output_type": "stream",
     "text": [
      "MoviePy - Done.\n",
      "Moviepy - Writing video ../resources/data/YouTube/unpas/results/3_pred.MP4\n",
      "\n"
     ]
    },
    {
     "name": "stderr",
     "output_type": "stream",
     "text": [
      "                                                             \r"
     ]
    },
    {
     "name": "stdout",
     "output_type": "stream",
     "text": [
      "Moviepy - Done !\n",
      "Moviepy - video ready ../resources/data/YouTube/unpas/results/3_pred.MP4\n",
      "Moviepy - Building video ../resources/data/YouTube/unpas/results/4_ori.MP4.\n",
      "MoviePy - Writing audio in 4_oriTEMP_MPY_wvf_snd.mp4\n"
     ]
    },
    {
     "name": "stderr",
     "output_type": "stream",
     "text": [
      "                                                       "
     ]
    },
    {
     "name": "stdout",
     "output_type": "stream",
     "text": [
      "MoviePy - Done.\n",
      "Moviepy - Writing video ../resources/data/YouTube/unpas/results/4_ori.MP4\n",
      "\n"
     ]
    },
    {
     "name": "stderr",
     "output_type": "stream",
     "text": [
      "                                                             \r"
     ]
    },
    {
     "name": "stdout",
     "output_type": "stream",
     "text": [
      "Moviepy - Done !\n",
      "Moviepy - video ready ../resources/data/YouTube/unpas/results/4_ori.MP4\n",
      "Moviepy - Building video ../resources/data/YouTube/unpas/results/4_pred.MP4.\n",
      "MoviePy - Writing audio in 4_predTEMP_MPY_wvf_snd.mp4\n"
     ]
    },
    {
     "name": "stderr",
     "output_type": "stream",
     "text": [
      "                                                       "
     ]
    },
    {
     "name": "stdout",
     "output_type": "stream",
     "text": [
      "MoviePy - Done.\n",
      "Moviepy - Writing video ../resources/data/YouTube/unpas/results/4_pred.MP4\n",
      "\n"
     ]
    },
    {
     "name": "stderr",
     "output_type": "stream",
     "text": [
      "                                                             \r"
     ]
    },
    {
     "name": "stdout",
     "output_type": "stream",
     "text": [
      "Moviepy - Done !\n",
      "Moviepy - video ready ../resources/data/YouTube/unpas/results/4_pred.MP4\n",
      "Moviepy - Building video ../resources/data/YouTube/unpas/results/5_ori.MP4.\n",
      "MoviePy - Writing audio in 5_oriTEMP_MPY_wvf_snd.mp4\n"
     ]
    },
    {
     "name": "stderr",
     "output_type": "stream",
     "text": [
      "                                                       "
     ]
    },
    {
     "name": "stdout",
     "output_type": "stream",
     "text": [
      "MoviePy - Done.\n",
      "Moviepy - Writing video ../resources/data/YouTube/unpas/results/5_ori.MP4\n",
      "\n"
     ]
    },
    {
     "name": "stderr",
     "output_type": "stream",
     "text": [
      "                                                             \r"
     ]
    },
    {
     "name": "stdout",
     "output_type": "stream",
     "text": [
      "Moviepy - Done !\n",
      "Moviepy - video ready ../resources/data/YouTube/unpas/results/5_ori.MP4\n",
      "Moviepy - Building video ../resources/data/YouTube/unpas/results/5_pred.MP4.\n",
      "MoviePy - Writing audio in 5_predTEMP_MPY_wvf_snd.mp4\n"
     ]
    },
    {
     "name": "stderr",
     "output_type": "stream",
     "text": [
      "                                                       "
     ]
    },
    {
     "name": "stdout",
     "output_type": "stream",
     "text": [
      "MoviePy - Done.\n",
      "Moviepy - Writing video ../resources/data/YouTube/unpas/results/5_pred.MP4\n",
      "\n"
     ]
    },
    {
     "name": "stderr",
     "output_type": "stream",
     "text": [
      "                                                             \r"
     ]
    },
    {
     "name": "stdout",
     "output_type": "stream",
     "text": [
      "Moviepy - Done !\n",
      "Moviepy - video ready ../resources/data/YouTube/unpas/results/5_pred.MP4\n",
      "Moviepy - Building video ../resources/data/YouTube/unpas/results/6_ori.MP4.\n",
      "MoviePy - Writing audio in 6_oriTEMP_MPY_wvf_snd.mp4\n"
     ]
    },
    {
     "name": "stderr",
     "output_type": "stream",
     "text": [
      "                                                       "
     ]
    },
    {
     "name": "stdout",
     "output_type": "stream",
     "text": [
      "MoviePy - Done.\n",
      "Moviepy - Writing video ../resources/data/YouTube/unpas/results/6_ori.MP4\n",
      "\n"
     ]
    },
    {
     "name": "stderr",
     "output_type": "stream",
     "text": [
      "                                                             \r"
     ]
    },
    {
     "name": "stdout",
     "output_type": "stream",
     "text": [
      "Moviepy - Done !\n",
      "Moviepy - video ready ../resources/data/YouTube/unpas/results/6_ori.MP4\n",
      "Moviepy - Building video ../resources/data/YouTube/unpas/results/6_pred.MP4.\n",
      "MoviePy - Writing audio in 6_predTEMP_MPY_wvf_snd.mp4\n"
     ]
    },
    {
     "name": "stderr",
     "output_type": "stream",
     "text": [
      "                                                       "
     ]
    },
    {
     "name": "stdout",
     "output_type": "stream",
     "text": [
      "MoviePy - Done.\n",
      "Moviepy - Writing video ../resources/data/YouTube/unpas/results/6_pred.MP4\n",
      "\n"
     ]
    },
    {
     "name": "stderr",
     "output_type": "stream",
     "text": [
      "                                                             \r"
     ]
    },
    {
     "name": "stdout",
     "output_type": "stream",
     "text": [
      "Moviepy - Done !\n",
      "Moviepy - video ready ../resources/data/YouTube/unpas/results/6_pred.MP4\n",
      "Moviepy - Building video ../resources/data/YouTube/unpas/results/7_ori.MP4.\n",
      "MoviePy - Writing audio in 7_oriTEMP_MPY_wvf_snd.mp4\n"
     ]
    },
    {
     "name": "stderr",
     "output_type": "stream",
     "text": [
      "                                                       "
     ]
    },
    {
     "name": "stdout",
     "output_type": "stream",
     "text": [
      "MoviePy - Done.\n",
      "Moviepy - Writing video ../resources/data/YouTube/unpas/results/7_ori.MP4\n",
      "\n"
     ]
    },
    {
     "name": "stderr",
     "output_type": "stream",
     "text": [
      "                                                             \r"
     ]
    },
    {
     "name": "stdout",
     "output_type": "stream",
     "text": [
      "Moviepy - Done !\n",
      "Moviepy - video ready ../resources/data/YouTube/unpas/results/7_ori.MP4\n",
      "Moviepy - Building video ../resources/data/YouTube/unpas/results/7_pred.MP4.\n",
      "MoviePy - Writing audio in 7_predTEMP_MPY_wvf_snd.mp4\n"
     ]
    },
    {
     "name": "stderr",
     "output_type": "stream",
     "text": [
      "                                                       "
     ]
    },
    {
     "name": "stdout",
     "output_type": "stream",
     "text": [
      "MoviePy - Done.\n",
      "Moviepy - Writing video ../resources/data/YouTube/unpas/results/7_pred.MP4\n",
      "\n"
     ]
    },
    {
     "name": "stderr",
     "output_type": "stream",
     "text": [
      "                                                             \r"
     ]
    },
    {
     "name": "stdout",
     "output_type": "stream",
     "text": [
      "Moviepy - Done !\n",
      "Moviepy - video ready ../resources/data/YouTube/unpas/results/7_pred.MP4\n",
      "Moviepy - Building video ../resources/data/YouTube/unpas/results/8_ori.MP4.\n",
      "MoviePy - Writing audio in 8_oriTEMP_MPY_wvf_snd.mp4\n"
     ]
    },
    {
     "name": "stderr",
     "output_type": "stream",
     "text": [
      "                                                       "
     ]
    },
    {
     "name": "stdout",
     "output_type": "stream",
     "text": [
      "MoviePy - Done.\n",
      "Moviepy - Writing video ../resources/data/YouTube/unpas/results/8_ori.MP4\n",
      "\n"
     ]
    },
    {
     "name": "stderr",
     "output_type": "stream",
     "text": [
      "                                                             \r"
     ]
    },
    {
     "name": "stdout",
     "output_type": "stream",
     "text": [
      "Moviepy - Done !\n",
      "Moviepy - video ready ../resources/data/YouTube/unpas/results/8_ori.MP4\n",
      "Moviepy - Building video ../resources/data/YouTube/unpas/results/8_pred.MP4.\n",
      "MoviePy - Writing audio in 8_predTEMP_MPY_wvf_snd.mp4\n"
     ]
    },
    {
     "name": "stderr",
     "output_type": "stream",
     "text": [
      "                                                       "
     ]
    },
    {
     "name": "stdout",
     "output_type": "stream",
     "text": [
      "MoviePy - Done.\n",
      "Moviepy - Writing video ../resources/data/YouTube/unpas/results/8_pred.MP4\n",
      "\n"
     ]
    },
    {
     "name": "stderr",
     "output_type": "stream",
     "text": [
      "                                                             \r"
     ]
    },
    {
     "name": "stdout",
     "output_type": "stream",
     "text": [
      "Moviepy - Done !\n",
      "Moviepy - video ready ../resources/data/YouTube/unpas/results/8_pred.MP4\n",
      "Moviepy - Building video ../resources/data/YouTube/unpas/results/9_ori.MP4.\n",
      "MoviePy - Writing audio in 9_oriTEMP_MPY_wvf_snd.mp4\n"
     ]
    },
    {
     "name": "stderr",
     "output_type": "stream",
     "text": [
      "                                                       "
     ]
    },
    {
     "name": "stdout",
     "output_type": "stream",
     "text": [
      "MoviePy - Done.\n",
      "Moviepy - Writing video ../resources/data/YouTube/unpas/results/9_ori.MP4\n",
      "\n"
     ]
    },
    {
     "name": "stderr",
     "output_type": "stream",
     "text": [
      "                                                             \r"
     ]
    },
    {
     "name": "stdout",
     "output_type": "stream",
     "text": [
      "Moviepy - Done !\n",
      "Moviepy - video ready ../resources/data/YouTube/unpas/results/9_ori.MP4\n",
      "Moviepy - Building video ../resources/data/YouTube/unpas/results/9_pred.MP4.\n",
      "MoviePy - Writing audio in 9_predTEMP_MPY_wvf_snd.mp4\n"
     ]
    },
    {
     "name": "stderr",
     "output_type": "stream",
     "text": [
      "                                                       "
     ]
    },
    {
     "name": "stdout",
     "output_type": "stream",
     "text": [
      "MoviePy - Done.\n",
      "Moviepy - Writing video ../resources/data/YouTube/unpas/results/9_pred.MP4\n",
      "\n"
     ]
    },
    {
     "name": "stderr",
     "output_type": "stream",
     "text": [
      "                                                             \r"
     ]
    },
    {
     "name": "stdout",
     "output_type": "stream",
     "text": [
      "Moviepy - Done !\n",
      "Moviepy - video ready ../resources/data/YouTube/unpas/results/9_pred.MP4\n"
     ]
    }
   ],
   "source": [
    "from src.utils.video import combine_video\n",
    "\n",
    "for i in range(len(audios)):\n",
    "    ori_audio = audios[i]\n",
    "    ori_video = videos[i]\n",
    "    pred_wav = pred_wavs[i]\n",
    "    combine_video(\n",
    "        f\"{result_dir}/{i}_ori.MP4\",\n",
    "        frames=ori_video,\n",
    "        audio=ori_audio,\n",
    "        fps=25,\n",
    "        sr=16000\n",
    "    )\n",
    "    \n",
    "    combine_video(\n",
    "        f\"{result_dir}/{i}_pred.MP4\",\n",
    "        frames=ori_video,\n",
    "        audio=pred_wav,\n",
    "        fps=25,\n",
    "        sr=16000\n",
    "    )\n",
    "    "
   ]
  },
  {
   "cell_type": "code",
   "execution_count": null,
   "metadata": {},
   "outputs": [],
   "source": []
  },
  {
   "cell_type": "code",
   "execution_count": null,
   "metadata": {},
   "outputs": [],
   "source": []
  },
  {
   "cell_type": "code",
   "execution_count": 18,
   "metadata": {
    "ExecuteTime": {
     "end_time": "2023-05-21T10:51:58.387903Z",
     "start_time": "2023-05-21T10:51:58.343859Z"
    },
    "collapsed": false
   },
   "outputs": [
    {
     "data": {
      "text/plain": [
       "(113600, 113600)"
      ]
     },
     "execution_count": 18,
     "metadata": {},
     "output_type": "execute_result"
    }
   ],
   "source": [
    "len(ori_audio), len(target_wav)"
   ]
  },
  {
   "cell_type": "code",
   "execution_count": 22,
   "metadata": {
    "ExecuteTime": {
     "end_time": "2023-05-21T10:52:40.107554Z",
     "start_time": "2023-05-21T10:52:40.065196Z"
    },
    "collapsed": false
   },
   "outputs": [
    {
     "data": {
      "text/plain": [
       "{'PESQ': [tensor(1.0592),\n",
       "  tensor(1.0901),\n",
       "  tensor(1.0300),\n",
       "  tensor(1.0366),\n",
       "  tensor(1.0743),\n",
       "  tensor(1.0878),\n",
       "  tensor(1.0641),\n",
       "  tensor(1.1616),\n",
       "  tensor(1.1943),\n",
       "  tensor(1.1718)],\n",
       " 'STOI': [tensor(0.1291),\n",
       "  tensor(0.1748),\n",
       "  tensor(0.1780),\n",
       "  tensor(0.1145),\n",
       "  tensor(0.1301),\n",
       "  tensor(0.1604),\n",
       "  tensor(0.1534),\n",
       "  tensor(0.1721),\n",
       "  tensor(0.1395),\n",
       "  tensor(0.1490)],\n",
       " 'ESTOI': [tensor(-0.0627),\n",
       "  tensor(-0.0021),\n",
       "  tensor(0.0284),\n",
       "  tensor(-0.0105),\n",
       "  tensor(0.0050),\n",
       "  tensor(0.0083),\n",
       "  tensor(-0.0149),\n",
       "  tensor(0.0417),\n",
       "  tensor(-0.0080),\n",
       "  tensor(-0.0195)]}"
      ]
     },
     "execution_count": 22,
     "metadata": {},
     "output_type": "execute_result"
    }
   ],
   "source": [
    "scores"
   ]
  },
  {
   "cell_type": "code",
   "execution_count": 17,
   "metadata": {
    "ExecuteTime": {
     "start_time": "2023-06-05T23:44:09.604955Z",
     "end_time": "2023-06-05T23:44:09.915368Z"
    },
    "collapsed": false
   },
   "outputs": [
    {
     "data": {
      "text/plain": "<Figure size 800x300 with 1 Axes>",
      "image/png": "[encoded data removed]"
     },
     "metadata": {},
     "output_type": "display_data"
    }
   ],
   "source": [
    "from src.visualization.audio import visualize_audio\n",
    "\n",
    "visualize_audio(ori_audio)"
   ]
  },
  {
   "cell_type": "code",
   "execution_count": 18,
   "metadata": {
    "ExecuteTime": {
     "start_time": "2023-06-05T23:44:12.000011Z",
     "end_time": "2023-06-05T23:44:12.387531Z"
    },
    "collapsed": false
   },
   "outputs": [
    {
     "data": {
      "text/plain": "<Figure size 800x300 with 1 Axes>",
      "image/png": "[encoded data removed]"
     },
     "metadata": {},
     "output_type": "display_data"
    }
   ],
   "source": [
    "visualize_audio(target_wav)"
   ]
  },
  {
   "cell_type": "code",
   "execution_count": 21,
   "metadata": {
    "ExecuteTime": {
     "end_time": "2023-05-20T22:37:58.718245Z",
     "start_time": "2023-05-20T22:37:58.672033Z"
    },
    "collapsed": false
   },
   "outputs": [
    {
     "data": {
      "text/plain": [
       "(131680,)"
      ]
     },
     "execution_count": 21,
     "metadata": {},
     "output_type": "execute_result"
    }
   ],
   "source": [
    "ori_audio.shape"
   ]
  },
  {
   "cell_type": "code",
   "execution_count": 20,
   "metadata": {
    "ExecuteTime": {
     "end_time": "2023-05-20T22:37:26.321396Z",
     "start_time": "2023-05-20T22:37:26.300711Z"
    },
    "collapsed": false
   },
   "outputs": [
    {
     "data": {
      "text/plain": [
       "(128000,)"
      ]
     },
     "execution_count": 20,
     "metadata": {},
     "output_type": "execute_result"
    }
   ],
   "source": [
    "target_wav.shape"
   ]
  }
 ],
 "metadata": {
  "kernelspec": {
   "display_name": "Python 3",
   "language": "python",
   "name": "python3"
  },
  "language_info": {
   "codemirror_mode": {
    "name": "ipython",
    "version": 3
   },
   "file_extension": ".py",
   "mimetype": "text/x-python",
   "name": "python",
   "nbconvert_exporter": "python",
   "pygments_lexer": "ipython3",
   "version": "3.9.13"
  }
 },
 "nbformat": 4,
 "nbformat_minor": 0
}
